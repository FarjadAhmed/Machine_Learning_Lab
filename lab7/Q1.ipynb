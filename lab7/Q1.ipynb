{
 "cells": [
  {
   "cell_type": "code",
   "execution_count": 90,
   "metadata": {},
   "outputs": [],
   "source": [
    "import matplotlib.pyplot as plt\n",
    "from sklearn.model_selection import train_test_split\n",
    "import os\n",
    "import itertools\n",
    "import numpy as np"
   ]
  },
  {
   "cell_type": "markdown",
   "metadata": {},
   "source": [
    "<h3><span style=\"color:blue\">The GIFs were not showing when I convert the file to pdf. Hence the GIFS are uploaded alongside the code and can be opened.</span>."
   ]
  },
  {
   "cell_type": "code",
   "execution_count": 91,
   "metadata": {},
   "outputs": [],
   "source": [
    "class Perceptron:  \n",
    "    def fit(self, X, y, n_iter=10):  # Fit the perceptron to the training data\n",
    "        n_samples = X.shape[0]  # Get the number of samples in X\n",
    "        n_features = X.shape[1]  # Get the number of features in X\n",
    "        self.weights = np.zeros((n_features+1,))  # Initialize the weights to 0\n",
    "        X = np.concatenate([X, np.ones((n_samples, 1))], axis=1)  # Add a column of 1s to X\n",
    "        for _ in range(n_iter):  # Loop for the specified number of iterations\n",
    "            for j in range(n_samples):  # Loop over all samples\n",
    "                if y[j]*np.dot(self.weights, X[j, :]) <= 0:  # If the sample is misclassified\n",
    "                    self.weights += y[j]*X[j, :]  # Update the weights\n",
    "                    \n",
    "    def predict(self, X):  # Predict the labels for the input features\n",
    "        n_samples = X.shape[0]  # Get the number of samples in X\n",
    "        X = np.concatenate([X, np.ones((n_samples, 1))], axis=1)  # Add a column of 1s to X\n",
    "        y = np.matmul(X, self.weights)  # Compute the dot product between X and the weights\n",
    "        y = np.vectorize(lambda val: 1 if val > 0 else -1)(y)  # Convert the output to 1 or -1\n",
    "        return y  # Return the predicted labels\n",
    "    \n",
    "    def score(self, X, y):  # Calculate the mean accuracy of the model on the input data\n",
    "        pred_y = self.predict(X)  # Predict the labels for the input features\n",
    "        return np.mean(y == pred_y)  # Return the mean of the correct predictions\n"
   ]
  },
  {
   "cell_type": "code",
   "execution_count": 92,
   "metadata": {},
   "outputs": [],
   "source": [
    "def polynomial_features(X: np.ndarray, p: int) -> np.ndarray:  # Generate polynomial features for the input data\n",
    "    n, d = X.shape  # Get the number of samples and features in X\n",
    "    features = []  # Initialize a list to store the generated features\n",
    "    for i in range(1, p+1):  # Loop over the degrees from 1 to p\n",
    "        for indices in itertools.combinations_with_replacement(range(d), i):  # Generate all combinations of feature indices with replacement\n",
    "            x = np.ones((n,))  # Initialize the polynomial feature to 1\n",
    "            for idx in indices:  # Loop over the indices\n",
    "                x = x * X[:, idx]  # Multiply the polynomial feature by the corresponding feature in X\n",
    "            features.append(x)  # Add the polynomial feature to the list\n",
    "    return np.stack(features, axis=1)  # Stack the features in a single array and return them\n",
    "\n",
    "def plot_data_points(ax, X, y):  # Plot the data points in a 2D scatter plot\n",
    "    ax.scatter(X[:, 0], X[:, 1], c=['blue' if yi == -1 else 'red' for yi in y])  # Color the points according to their labels\n",
    "\n",
    "def plot_decision_boundary(ax, clf, X, p):  # Plot the decision boundary of the classifier on the input data\n",
    "    x_min, x_max = np.min(X[:, 0]), np.max(X[:, 0])  # Get the minimum and maximum values of the first feature\n",
    "    y_min, y_max = np.min(X[:, 1]), np.max(X[:, 1])  # Get the minimum and maximum values of the second feature\n",
    "    xx, yy = np.meshgrid(np.linspace(x_min, x_max, 500), np.linspace(y_min, y_max, 500))  # Generate a grid of points in the feature space\n",
    "    Z = clf.predict(polynomial_features(np.c_[xx.ravel(), yy.ravel()], p))  # Predict the labels for the points in the grid\n",
    "    Z = Z.reshape(xx.shape)  # Reshape the labels to the shape of the grid\n",
    "    ax.contour(xx, yy, Z, levels=[0])  # Plot the decision boundary as a contour at level 0\n"
   ]
  },
  {
   "cell_type": "code",
   "execution_count": 93,
   "metadata": {},
   "outputs": [],
   "source": [
    "parent_dir = \"/Users/farjad.ahmed/Documents/Studies/ML Lab/Exercise_07/Exercise_07/output/\""
   ]
  },
  {
   "cell_type": "code",
   "execution_count": 94,
   "metadata": {},
   "outputs": [],
   "source": [
    "def anim_fig(weights, X, y, X_train, y_train, X_test, y_test, out_folder, p, n_iter, i, j, n_samples, iteration_level):\n",
    "    # Create Perceptron classifier\n",
    "    clf = Perceptron()\n",
    "    # Set weights of the classifier\n",
    "    clf.weights = weights\n",
    "    # Clear current figure\n",
    "    plt.clf()\n",
    "    # Create subplots for train and test sets\n",
    "    fig, (ax_train, ax_test) = plt.subplots(nrows=1, ncols=2, dpi=120, figsize=(16,6))\n",
    "    # Plot train set\n",
    "    if iteration_level:\n",
    "        plot_data_points(ax_train, X_train, y_train)\n",
    "    else:\n",
    "        # Create a mask to plot all points except the current one\n",
    "        mask = np.ones((n_samples,), dtype=bool)\n",
    "        mask[j] = False\n",
    "        plot_data_points(ax_train, X_train[mask, :], y_train[mask])\n",
    "        # Plot current point in lime color\n",
    "        ax_train.scatter(X_train[j, 0], X_train[j, 1], c='lime')\n",
    "    # Plot test set\n",
    "    plot_data_points(ax_test, X_test, y_test)\n",
    "    # Plot decision boundaries for train and test sets\n",
    "    plot_decision_boundary(ax_train, clf, X, p)\n",
    "    plot_decision_boundary(ax_test, clf, X, p)\n",
    "    # Set titles for train and test sets\n",
    "    ax_train.set_title('Train')\n",
    "    ax_test.set_title('Test')\n",
    "    # Set figure title\n",
    "    if iteration_level:\n",
    "        fig.suptitle(f'Iteration: {i+1}/{n_iter}', fontsize=14)\n",
    "    else:\n",
    "        fig.suptitle(f'Iteration: {i+1}/{n_iter}; Point: {j+1}/{n_samples}', fontsize=14)\n",
    "    # Save figure to file\n",
    "    k = i if iteration_level else i*n_samples+j\n",
    "    plt.savefig(f'{out_folder}/frame{k}.png')\n",
    "    # Close figure\n",
    "    plt.close(fig)\n",
    "\n",
    "def perceptron_anim(X, y, X_train, y_train, X_test, y_test, out_folder, iteration_level, p=1, n_iter=100):\n",
    "    # Get number of samples and features in train set\n",
    "    n_samples = X_train.shape[0]\n",
    "    n_features = X_train.shape[1]\n",
    "    # Initialize weights to 0\n",
    "    weights = np.zeros((n_features+1,))\n",
    "    # Add a column of ones to the training data\n",
    "    X_train = np.concatenate([X_train, np.ones((n_samples, 1))], axis=1)\n",
    "    # Iterate through the number of iterations\n",
    "    for i in range(n_iter):\n",
    "        # Iterate through the train set\n",
    "        for j in range(n_samples):\n",
    "            # Update weights if current point is misclassified\n",
    "            if y_train[j]*np.dot(weights, X_train[j, :]) <= 0:\n",
    "                weights += y_train[j]*X_train[j, :]\n",
    "            # Generate plot for current iteration/point\n",
    "            if not iteration_level:\n",
    "                anim_fig(weights, X, y, X_train, y_train, X_test, y_test, out_folder, p, n_iter, i, j, n_samples, iteration_level)"
   ]
  },
  {
   "attachments": {},
   "cell_type": "markdown",
   "metadata": {},
   "source": [
    "### 1"
   ]
  },
  {
   "cell_type": "code",
   "execution_count": 96,
   "metadata": {},
   "outputs": [
    {
     "name": "stdout",
     "output_type": "stream",
     "text": [
      "Train Accuracy:  1.0\n",
      "Test Accuracy:  1.0\n"
     ]
    },
    {
     "data": {
      "text/plain": [
       "<Figure size 640x480 with 0 Axes>"
      ]
     },
     "metadata": {},
     "output_type": "display_data"
    }
   ],
   "source": [
    "# Load data from files and store in variables X and y\n",
    "X = np.load('Xlin_sep.npy')\n",
    "y = np.load('ylin_sep.npy')\n",
    "# Split data into training and testing sets\n",
    "X_train, X_test, y_train, y_test = train_test_split(X, y, train_size=0.75)\n",
    "# Create an animation and save it to a file\n",
    "perceptron_anim(X, y, X_train, y_train, X_test, y_test, 'output/lin_sep/anim', iteration_level=False, p=1, n_iter=3)\n",
    "obj1 = Perceptron()# Create a perceptron model\n",
    "obj1.fit(X_train, y_train)# Fit the model to the training data\n",
    "# Print the accuracy of the model on the training and testing datasets\n",
    "print(\"Train Accuracy: \", obj1.score(X_train, y_train))\n",
    "print(\"Test Accuracy: \", obj1.score(X_test, y_test))"
   ]
  },
  {
   "cell_type": "code",
   "execution_count": 97,
   "metadata": {},
   "outputs": [
    {
     "data": {
      "image/png": "[encoded data removed]",
      "text/plain": [
       "<Figure size 320x240 with 1 Axes>"
      ]
     },
     "metadata": {},
     "output_type": "display_data"
    }
   ],
   "source": [
    "fig, ax = plt.subplots(nrows=1, ncols=1, dpi=40, figsize=(8,6))# Create a figure and a single subplot\n",
    "plot_data_points(ax, X, y)# Plot data points on the subplot\n",
    "plot_decision_boundary(ax, obj1, X, 1)# Plot the decision boundary on the subplot\n",
    "plt.title('Data with final trained Boundary Line')# Increase the size of the overall figure\n",
    "plt.show()# Show the plot"
   ]
  },
  {
   "cell_type": "code",
   "execution_count": 98,
   "metadata": {},
   "outputs": [
    {
     "data": {
      "text/html": [
       "<img src=\"anim1.gif\" width=\"700\" height=\"300\"/>"
      ],
      "text/plain": [
       "<IPython.core.display.Image object>"
      ]
     },
     "execution_count": 98,
     "metadata": {},
     "output_type": "execute_result"
    }
   ],
   "source": [
    "import glob\n",
    "from PIL import Image\n",
    "def generateGIF(frame_folder):\n",
    "    # Save the gif file using the first image as the base image\n",
    "    # and the other images as frames\n",
    "    frames = [Image.open(image) for image in glob.glob(f\"{frame_folder}/*.png\")]\n",
    "    frames[0].save(\"anim1.gif\", format=\"GIF\", append_images=frames, save_all=True, duration=100, loop=0)\n",
    "# Call the generateGIF function to create the gif file\n",
    "generateGIF(parent_dir+\"/lin_sep/anim\")\n",
    "# Display the gif file using the Image function from IPython.display\n",
    "from IPython.display import Image\n",
    "Image(url='anim1.gif', width=700, height=300)"
   ]
  },
  {
   "attachments": {},
   "cell_type": "markdown",
   "metadata": {},
   "source": [
    "#### 2"
   ]
  },
  {
   "cell_type": "code",
   "execution_count": 99,
   "metadata": {},
   "outputs": [
    {
     "name": "stdout",
     "output_type": "stream",
     "text": [
      "Train Accuracy:  0.8266666666666667\n",
      "Test Accuracy:  0.76\n"
     ]
    }
   ],
   "source": [
    "# Load data from files and store in variables X and y\n",
    "X = np.load('Xlinnoise_sep.npy')\n",
    "y = np.load('ylinnoise_sep.npy')\n",
    "# Split data into training and testing sets\n",
    "X_train, X_test, y_train, y_test = train_test_split(X, y, train_size=0.75)\n",
    "# Create an animation and save it to a file\n",
    "perceptron_anim(X, y, X_train, y_train, X_test, y_test, 'output/lin_noise/anim', iteration_level=True, p=1, n_iter=3)\n",
    "obj2 = Perceptron()# Create a perceptron model\n",
    "obj2.fit(X_train, y_train)# Fit the model to the training data\n",
    "# Print the accuracy of the model on the training and testing datasets\n",
    "print(\"Train Accuracy: \", obj2.score(X_train, y_train))\n",
    "print(\"Test Accuracy: \", obj2.score(X_test, y_test))"
   ]
  },
  {
   "cell_type": "code",
   "execution_count": 100,
   "metadata": {},
   "outputs": [
    {
     "data": {
      "image/png": "[encoded data removed]",
      "text/plain": [
       "<Figure size 320x240 with 1 Axes>"
      ]
     },
     "metadata": {},
     "output_type": "display_data"
    }
   ],
   "source": [
    "# Create a figure and a single subplot\n",
    "fig, ax = plt.subplots(nrows=1, ncols=1, dpi=40, figsize=(8,6))\n",
    "# Plot data points on the subplot\n",
    "plot_data_points(ax, X, y)\n",
    "# Plot the decision boundary on the subplot\n",
    "plot_decision_boundary(ax, obj2, X, 1)\n",
    "plt.title('Data with final trained Boundary Line')\n",
    "# Show the plot\n",
    "plt.show()"
   ]
  },
  {
   "cell_type": "code",
   "execution_count": 101,
   "metadata": {},
   "outputs": [
    {
     "data": {
      "text/html": [
       "<img src=\"anim2.gif\" width=\"700\" height=\"300\"/>"
      ],
      "text/plain": [
       "<IPython.core.display.Image object>"
      ]
     },
     "execution_count": 101,
     "metadata": {},
     "output_type": "execute_result"
    }
   ],
   "source": [
    "import glob\n",
    "from PIL import Image\n",
    "def generateGIF(frame_folder):\n",
    "    # Save the gif file using the first image as the base image\n",
    "    # and the other images as frames\n",
    "    frames = [Image.open(image) for image in glob.glob(f\"{frame_folder}/*.png\")]\n",
    "    frames[0].save(\"anim2.gif\", format=\"GIF\", append_images=frames, save_all=True, duration=100, loop=0)\n",
    "    # Call the generateGIF function to create the gif file\n",
    "generateGIF(parent_dir+\"/lin_noise/anim\")\n",
    "# Display the gif file using the Image function from IPython.display\n",
    "from IPython.display import Image\n",
    "Image(url='anim2.gif', width=700, height=300)"
   ]
  },
  {
   "attachments": {},
   "cell_type": "markdown",
   "metadata": {},
   "source": [
    "### 3"
   ]
  },
  {
   "cell_type": "code",
   "execution_count": 102,
   "metadata": {},
   "outputs": [
    {
     "name": "stderr",
     "output_type": "stream",
     "text": [
      "/var/folders/t6/rk7lq7211555v4bhr2_wl3x00000gp/T/ipykernel_5379/4102353347.py:21: UserWarning: No contour levels were found within the data range.\n",
      "  ax.contour(xx, yy, Z, levels=[0])  # Plot the decision boundary as a contour at level 0\n"
     ]
    },
    {
     "name": "stdout",
     "output_type": "stream",
     "text": [
      "Train Accuracy:  1.0\n",
      "Test Accuracy:  1.0\n"
     ]
    },
    {
     "data": {
      "text/plain": [
       "<Figure size 640x480 with 0 Axes>"
      ]
     },
     "metadata": {},
     "output_type": "display_data"
    }
   ],
   "source": [
    "# Load data from files and store in variables X and y\n",
    "X = np.load('circles_x.npy')\n",
    "y = np.load('circles_y.npy')\n",
    "# Initiate polynomials for 2D data\n",
    "X = polynomial_features(X, 2)\n",
    "# Split data into training and testing sets\n",
    "X_train, X_test, y_train, y_test = train_test_split(X, y, train_size=0.75)\n",
    "# Create an animation and save it to a file\n",
    "perceptron_anim(X, y, X_train, y_train, X_test, y_test, 'output/circles/anim', iteration_level=False, p=2, n_iter=3)\n",
    "obj3 = Perceptron()# Create a perceptron model\n",
    "obj3.fit(X_train, y_train, n_iter=3)# Fit the model to the training data\n",
    "# Print the accuracy of the model on the training and testing datasets\n",
    "print(\"Train Accuracy: \", obj3.score(X_train, y_train))\n",
    "print(\"Test Accuracy: \", obj3.score(X_test, y_test))"
   ]
  },
  {
   "cell_type": "code",
   "execution_count": 103,
   "metadata": {},
   "outputs": [
    {
     "data": {
      "image/png": "[encoded data removed]",
      "text/plain": [
       "<Figure size 320x240 with 1 Axes>"
      ]
     },
     "metadata": {},
     "output_type": "display_data"
    }
   ],
   "source": [
    "# Create a figure and a single subplot\n",
    "fig, ax = plt.subplots(nrows=1, ncols=1, dpi=40, figsize=(8,6))\n",
    "# Plot data points on the subplot\n",
    "plot_data_points(ax, X, y)\n",
    "# Plot the decision boundary on the subplot\n",
    "plot_decision_boundary(ax, obj3, X, 2)\n",
    "plt.title('Data with final trained Boundary Line')\n",
    "plt.show()"
   ]
  },
  {
   "cell_type": "code",
   "execution_count": 104,
   "metadata": {},
   "outputs": [
    {
     "data": {
      "text/html": [
       "<img src=\"anim3.gif\" width=\"700\" height=\"300\"/>"
      ],
      "text/plain": [
       "<IPython.core.display.Image object>"
      ]
     },
     "execution_count": 104,
     "metadata": {},
     "output_type": "execute_result"
    }
   ],
   "source": [
    "import glob\n",
    "from PIL import Image\n",
    "def generateGIF(frame_folder):\n",
    "    # Save the gif file using the first image as the base image\n",
    "    # and the other images as frames\n",
    "    frames = [Image.open(image) for image in glob.glob(f\"{frame_folder}/*.png\")]\n",
    "    frames[0].save(\"anim3.gif\", format=\"GIF\", append_images=frames,save_all=True, duration=100, loop=0)\n",
    "# Call the generateGIF function to create the gif file\n",
    "generateGIF(parent_dir+\"/circles/anim\")\n",
    "# Display the gif file using the Image function from IPython.display\n",
    "from IPython.display import Image\n",
    "Image(url='anim3.gif', width=700, height=300)"
   ]
  },
  {
   "cell_type": "code",
   "execution_count": null,
   "metadata": {},
   "outputs": [],
   "source": []
  }
 ],
 "metadata": {
  "kernelspec": {
   "display_name": "Python 3.10.6 64-bit",
   "language": "python",
   "name": "python3"
  },
  "language_info": {
   "codemirror_mode": {
    "name": "ipython",
    "version": 3
   },
   "file_extension": ".py",
   "mimetype": "text/x-python",
   "name": "python",
   "nbconvert_exporter": "python",
   "pygments_lexer": "ipython3",
   "version": "3.10.6"
  },
  "orig_nbformat": 4,
  "vscode": {
   "interpreter": {
    "hash": "916dbcbb3f70747c44a77c7bcd40155683ae19c65e1c03b4aa3499c5328201f1"
   }
  }
 },
 "nbformat": 4,
 "nbformat_minor": 2
}
