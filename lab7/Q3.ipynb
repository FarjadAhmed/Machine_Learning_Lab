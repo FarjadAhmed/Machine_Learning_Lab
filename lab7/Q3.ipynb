{
 "cells": [
  {
   "cell_type": "code",
   "execution_count": 1,
   "metadata": {},
   "outputs": [],
   "source": [
    "import numpy as np\n",
    "import pandas as pd\n",
    "from matplotlib import pyplot as plt\n",
    "import warnings\n",
    "warnings.filterwarnings(\"ignore\")\n",
    "from sklearn.datasets import load_iris\n",
    "from sklearn.linear_model import LogisticRegression\n",
    "from sklearn.model_selection import RandomizedSearchCV\n",
    "from scipy.stats import uniform\n",
    "from sklearn.preprocessing import StandardScaler\n",
    "from sklearn.datasets import load_digits\n",
    "from sklearn.neural_network import MLPClassifier\n",
    "from sklearn.datasets import make_classification\n",
    "from sklearn.model_selection import train_test_split, GridSearchCV, StratifiedKFold\n",
    "from sklearn.model_selection import ParameterGrid"
   ]
  },
  {
   "cell_type": "markdown",
   "metadata": {},
   "source": [
    "<h1>3 MLP using sklearn."
   ]
  },
  {
   "cell_type": "markdown",
   "metadata": {},
   "source": [
    "<h3>In this problem, you will use the same dataset from Question 2 and implement a multi-layer perceptron using sklearn. Set aside 20% of the image for testing. Import the necessary classes and do a 5-fold cross-validation by defining a hyperparameter grid for the MLP classifier. Read about the hyperparameters supported and define a grid for them. Perform a random search on the grid that you have chosen. Report a single test accuracy with the best found hyperparameters."
   ]
  },
  {
   "cell_type": "code",
   "execution_count": 2,
   "metadata": {},
   "outputs": [
    {
     "name": "stdout",
     "output_type": "stream",
     "text": [
      "shapes X: (1797, 64), y: (1797,)\n"
     ]
    }
   ],
   "source": [
    "X, y = load_digits(return_X_y=True)  # Load the digits dataset and get the features (X) and labels (y)\n",
    "rows, cols = X.shape  # Get the number of rows and columns in X\n",
    "X = (X-np.mean(X))/np.std(X)  # Normalize the features by subtracting the mean and dividing by the standard deviation\n",
    "print('shapes X: {}, y: {}'.format(X.shape, y.shape))  # Print the shapes of X and y\n",
    "split = int(0.8 * rows)  # Calculate the split index for the training and test sets (80% for training, 20% for testing)\n",
    "p = np.random.permutation(rows)  # Generate a random permutation of the rows\n",
    "x_train = X[p[:split]]  # Get the training features by selecting the first \"split\" rows of the permuted X\n",
    "y_train = y[p[:split]]  # Get the training labels by selecting the first \"split\" rows of the permuted y\n",
    "x_test = X[p[split:]]  # Get the test features by selecting the remaining rows of the permuted X\n",
    "y_test = y[p[split:]]  # Get the test labels by selecting the remaining rows of the permuted y\n"
   ]
  },
  {
   "cell_type": "code",
   "execution_count": 3,
   "metadata": {},
   "outputs": [
    {
     "name": "stdout",
     "output_type": "stream",
     "text": [
      "best estimator:  MLPClassifier(hidden_layer_sizes=(20,), learning_rate='adaptive', max_iter=100,\n",
      "              random_state=1)\n",
      "best params:  {'solver': 'adam', 'max_iter': 100, 'learning_rate': 'adaptive', 'hidden_layer_sizes': (20,), 'alpha': 0.0001, 'activation': 'relu'}\n"
     ]
    }
   ],
   "source": [
    "clf = MLPClassifier(random_state=1, max_iter=300)  # Initialize a multi-layer perceptron (MLP) classifier with a random state of 1 and max iterations of 300\n",
    "param_grid = {\n",
    "    'hidden_layer_sizes': [(5,), (10,), (20,)],  # Try hidden layer sizes of 5, 10, and 20 neurons\n",
    "    'activation': ['relu', 'tanh'],  # Try ReLU and tanh activation functions\n",
    "    'solver': ['adam', 'sgd'],  # Try Adam and SGD solvers\n",
    "    'learning_rate': ['constant', 'invscaling', 'adaptive'],  # Try constant, inverse scaling, and adaptive learning rates\n",
    "    'max_iter': [10, 100, 150],  # Try max iteration values of 10, 100, and 150\n",
    "    'alpha': [0.0001, 0.001, 0.01]  # Try alpha values of 0.0001, 0.001, and 0.01\n",
    "}\n",
    "random_search = RandomizedSearchCV(clf, param_distributions=param_grid, cv=StratifiedKFold(n_splits=5))  # Initialize a randomized search with 5-fold stratified cross-validation\n",
    "random_search.fit(x_train, y_train)  # Fit the randomized search to the training data\n",
    "best_estimator = random_search.best_estimator_  # Get the best estimator from the search\n",
    "best_params = random_search.best_params_  # Get the best parameters from the search\n",
    "print('best estimator: ', best_estimator)  # Print the best estimator\n",
    "print('best params: ', best_params)  # Print the best parameters\n"
   ]
  },
  {
   "cell_type": "code",
   "execution_count": 4,
   "metadata": {},
   "outputs": [
    {
     "name": "stdout",
     "output_type": "stream",
     "text": [
      "Test Accuracy is:  95.3 %\n"
     ]
    }
   ],
   "source": [
    "test_accuracy = best_estimator.score(x_test, y_test) # Computing accuracy for test set\n",
    "print('Test Accuracy is: ', np.round(test_accuracy, 3)*100, '%')"
   ]
  },
  {
   "cell_type": "code",
   "execution_count": null,
   "metadata": {},
   "outputs": [],
   "source": []
  }
 ],
 "metadata": {
  "kernelspec": {
   "display_name": "Python 3.10.8 64-bit",
   "language": "python",
   "name": "python3"
  },
  "language_info": {
   "codemirror_mode": {
    "name": "ipython",
    "version": 3
   },
   "file_extension": ".py",
   "mimetype": "text/x-python",
   "name": "python",
   "nbconvert_exporter": "python",
   "pygments_lexer": "ipython3",
   "version": "3.10.8"
  },
  "orig_nbformat": 4,
  "vscode": {
   "interpreter": {
    "hash": "b0fa6594d8f4cbf19f97940f81e996739fb7646882a419484c72d19e05852a7e"
   }
  }
 },
 "nbformat": 4,
 "nbformat_minor": 2
}
