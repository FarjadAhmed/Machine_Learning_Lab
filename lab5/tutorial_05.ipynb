{
 "cells": [
  {
   "cell_type": "code",
   "execution_count": 16,
   "metadata": {},
   "outputs": [],
   "source": [
    "from sklearn.datasets import fetch_20newsgroups_vectorized\n",
    "from sklearn.multiclass import OneVsRestClassifier\n",
    "from sklearn.svm import LinearSVC\n",
    "from sklearn.linear_model import LogisticRegression\n",
    "import numpy as np\n",
    "from sklearn.naive_bayes import MultinomialNB\n",
    "from sklearn.metrics import accuracy_score\n",
    "from sklearn.metrics import classification_report\n",
    "import numpy as np\n",
    "from sklearn.multiclass import OneVsRestClassifier\n",
    "from sklearn.svm import SVC\n",
    "from sklearn.neighbors import KNeighborsClassifier\n",
    "from sklearn.datasets import load_iris\n",
    "from sklearn.model_selection import train_test_split\n",
    "from sklearn.multiclass import OneVsOneClassifier\n",
    "from sklearn.svm import LinearSVC\n",
    "from sklearn.multiclass import OneVsOneClassifier\n",
    "from sklearn.discriminant_analysis import LinearDiscriminantAnalysis\n",
    "from sklearn.linear_model import Lars\n",
    "import numpy as np\n",
    "import itertools\n",
    "from sklearn.linear_model import LinearRegression\n",
    "from sklearn.metrics import mean_squared_error\n",
    "import pandas as pd\n",
    "from sklearn import svm, datasets\n",
    "from sklearn.model_selection import GridSearchCV\n",
    "from sklearn.linear_model import Lasso\n",
    "from sklearn.linear_model import Ridge\n",
    "from sklearn.linear_model import ElasticNet\n",
    "from sklearn.model_selection import GridSearchCV\n",
    "from sklearn.model_selection import RandomizedSearchCV\n",
    "import warnings\n",
    "warnings.filterwarnings(\"ignore\")\n",
    "import pprint\n",
    "import csv\n",
    "import codecs\n",
    "import urllib.request\n",
    "from collections import Counter\n",
    "import glob\n",
    "import codecs\n",
    "import re\n",
    "import pandas as pd\n",
    "import math\n",
    "from cmath import exp\n",
    "import matplotlib.pyplot as plt\n",
    "import numpy as np\n",
    "import seaborn as sns\n",
    "import warnings\n",
    "warnings.filterwarnings(\"ignore\")\n",
    "import pandas as pd\n",
    "from sklearn import datasets\n",
    "import statsmodels.api as sm\n",
    "from pylab import rcParams\n",
    "from matplotlib.pyplot import *\n",
    "from numpy.linalg import inv\n",
    "from statsmodels.tsa.seasonal import seasonal_decompose\n",
    "# sns.reset_orig()\n",
    "np.random.seed(0)\n",
    "sns.set_theme(context='notebook')\n",
    "from sklearn import linear_model\n",
    "from sklearn.preprocessing import StandardScaler\n",
    "from sklearn import linear_model\n",
    "from sklearn.metrics import mean_squared_error\n",
    "import numpy as np\n",
    "np.random.seed(0)\n",
    "from sklearn.base import BaseEstimator, RegressorMixin\n",
    "from sklearn.linear_model import LinearRegression\n",
    "from numpy import isnan, isinf, float64\n",
    "from sklearn.utils.validation import check_X_y, check_array, check_is_fitted\n",
    "from sklearn.utils.estimator_checks import *\n",
    "import warnings\n",
    "from sklearn.utils.validation import DataConversionWarning\n",
    "warnings.warn(\"Test DataConversionWarning\", DataConversionWarning)\n",
    "from sklearn.discriminant_analysis import LinearDiscriminantAnalysis\n",
    "from sklearn.datasets import fetch_20newsgroups\n",
    "from sklearn.decomposition import TruncatedSVD\n"
   ]
  },
  {
   "cell_type": "markdown",
   "metadata": {},
   "source": [
    "<h3>In the previous exercise sheets, you have implemented various algorithms from scratch; this exercise focuses on\n",
    "introducing you to a high-level Machine Learning library (sklearn)."
   ]
  },
  {
   "cell_type": "markdown",
   "metadata": {},
   "source": [
    "<h3>1. Load the 20news-group-vectorized dataset from sklearn. This dataset consists of 130107 predictors\n",
    "with 20 classes. Perform the following experiments:"
   ]
  },
  {
   "cell_type": "code",
   "execution_count": 17,
   "metadata": {},
   "outputs": [],
   "source": [
    "# # Load the training dataset\n",
    "newsgroups_train = fetch_20newsgroups_vectorized(subset='train', return_X_y=True)\n",
    "newsgroups_test = fetch_20newsgroups_vectorized(subset='test', return_X_y=True)\n",
    "xtrain, ytrain = newsgroups_train\n",
    "xtest, ytest = newsgroups_test\n"
   ]
  },
  {
   "cell_type": "markdown",
   "metadata": {},
   "source": [
    "# normalize"
   ]
  },
  {
   "cell_type": "markdown",
   "metadata": {},
   "source": [
    "<h3> a) Multiclass Classification\n"
   ]
  },
  {
   "cell_type": "code",
   "execution_count": 18,
   "metadata": {},
   "outputs": [
    {
     "name": "stdout",
     "output_type": "stream",
     "text": [
      "Classification Accuracy %: 70.52575677110993\n",
      "Classification Report:                precision    recall  f1-score   support\n",
      "\n",
      "           0       0.85      0.24      0.37       319\n",
      "           1       0.71      0.60      0.65       389\n",
      "           2       0.79      0.65      0.71       394\n",
      "           3       0.63      0.75      0.69       392\n",
      "           4       0.86      0.68      0.76       385\n",
      "           5       0.88      0.68      0.77       395\n",
      "           6       0.90      0.72      0.80       390\n",
      "           7       0.71      0.92      0.80       396\n",
      "           8       0.84      0.91      0.87       398\n",
      "           9       0.86      0.85      0.86       397\n",
      "          10       0.90      0.93      0.91       399\n",
      "          11       0.52      0.96      0.67       396\n",
      "          12       0.78      0.52      0.63       393\n",
      "          13       0.82      0.76      0.79       396\n",
      "          14       0.83      0.81      0.82       394\n",
      "          15       0.34      0.98      0.51       398\n",
      "          16       0.66      0.80      0.73       364\n",
      "          17       0.96      0.72      0.82       376\n",
      "          18       1.00      0.17      0.29       310\n",
      "          19       1.00      0.01      0.02       251\n",
      "\n",
      "    accuracy                           0.71      7532\n",
      "   macro avg       0.79      0.68      0.67      7532\n",
      "weighted avg       0.79      0.71      0.69      7532\n",
      "\n"
     ]
    }
   ],
   "source": [
    "clf = MultinomialNB()\n",
    "clf.fit(xtrain, ytrain)\n",
    "pred = clf.predict(xtest)\n",
    "print('Classification Accuracy %:', accuracy_score(ytest, pred)*100)\n",
    "print('Classification Report: ', classification_report(ytest, pred))"
   ]
  },
  {
   "cell_type": "markdown",
   "metadata": {},
   "source": [
    "<h3> b) Use Logistic Regression Algorithm and perform"
   ]
  },
  {
   "cell_type": "markdown",
   "metadata": {},
   "source": [
    "<h3>i. One vs Rest"
   ]
  },
  {
   "cell_type": "code",
   "execution_count": 19,
   "metadata": {},
   "outputs": [
    {
     "name": "stdout",
     "output_type": "stream",
     "text": [
      "Classification Accuracy %: 72.65002655337229\n",
      "Classification Report:                precision    recall  f1-score   support\n",
      "\n",
      "           0       0.64      0.61      0.63       319\n",
      "           1       0.63      0.68      0.65       389\n",
      "           2       0.72      0.66      0.69       394\n",
      "           3       0.68      0.62      0.65       392\n",
      "           4       0.71      0.70      0.71       385\n",
      "           5       0.72      0.69      0.70       395\n",
      "           6       0.72      0.86      0.79       390\n",
      "           7       0.80      0.78      0.79       396\n",
      "           8       0.79      0.88      0.83       398\n",
      "           9       0.69      0.82      0.75       397\n",
      "          10       0.86      0.86      0.86       399\n",
      "          11       0.86      0.81      0.84       396\n",
      "          12       0.63      0.62      0.62       393\n",
      "          13       0.65      0.63      0.64       396\n",
      "          14       0.85      0.85      0.85       394\n",
      "          15       0.70      0.89      0.78       398\n",
      "          16       0.62      0.80      0.69       364\n",
      "          17       0.85      0.79      0.82       376\n",
      "          18       0.68      0.46      0.55       310\n",
      "          19       0.72      0.27      0.40       251\n",
      "\n",
      "    accuracy                           0.73      7532\n",
      "   macro avg       0.73      0.71      0.71      7532\n",
      "weighted avg       0.73      0.73      0.72      7532\n",
      "\n"
     ]
    }
   ],
   "source": [
    "clf = OneVsRestClassifier(LogisticRegression())\n",
    "clf.fit(xtrain, ytrain)\n",
    "pred = clf.predict(xtest)\n",
    "print('Classification Accuracy %:', accuracy_score(ytest, pred)*100)\n",
    "print('Classification Report: ', classification_report(ytest, pred))"
   ]
  },
  {
   "cell_type": "markdown",
   "metadata": {},
   "source": [
    "<h3>ii. One vs One"
   ]
  },
  {
   "cell_type": "code",
   "execution_count": 20,
   "metadata": {},
   "outputs": [
    {
     "name": "stdout",
     "output_type": "stream",
     "text": [
      "Classification Accuracy %: 0.6460435475305364\n",
      "Classification Report:                precision    recall  f1-score   support\n",
      "\n",
      "           0       0.54      0.50      0.52       319\n",
      "           1       0.52      0.64      0.57       389\n",
      "           2       0.70      0.57      0.63       394\n",
      "           3       0.62      0.56      0.59       392\n",
      "           4       0.67      0.61      0.64       385\n",
      "           5       0.67      0.64      0.65       395\n",
      "           6       0.66      0.85      0.74       390\n",
      "           7       0.69      0.69      0.69       396\n",
      "           8       0.69      0.78      0.73       398\n",
      "           9       0.58      0.68      0.63       397\n",
      "          10       0.85      0.77      0.81       399\n",
      "          11       0.86      0.70      0.77       396\n",
      "          12       0.52      0.54      0.53       393\n",
      "          13       0.48      0.55      0.51       396\n",
      "          14       0.84      0.75      0.79       394\n",
      "          15       0.62      0.78      0.69       398\n",
      "          16       0.54      0.73      0.62       364\n",
      "          17       0.80      0.72      0.76       376\n",
      "          18       0.57      0.40      0.47       310\n",
      "          19       0.66      0.21      0.32       251\n",
      "\n",
      "    accuracy                           0.65      7532\n",
      "   macro avg       0.65      0.63      0.63      7532\n",
      "weighted avg       0.66      0.65      0.64      7532\n",
      "\n"
     ]
    }
   ],
   "source": [
    "clf = OneVsOneClassifier(LogisticRegression())\n",
    "clf.fit(xtrain, ytrain)\n",
    "pred = clf.predict(xtest)\n",
    "print('Classification Accuracy %:', accuracy_score(ytest, pred))\n",
    "print('Classification Report: ', classification_report(ytest, pred))"
   ]
  },
  {
   "cell_type": "markdown",
   "metadata": {},
   "source": [
    "<h3>c) Use Linear Discriminant Analysis Algorithm and perform"
   ]
  },
  {
   "cell_type": "markdown",
   "metadata": {},
   "source": [
    "<h3>i. one vs. rest"
   ]
  },
  {
   "cell_type": "markdown",
   "metadata": {},
   "source": [
    "<h3><span style=\"color:blue\">LDA was running indefinitely till kernel crashes, which I beleive could have been a result of overload on RAM due to extremely high number of computations. Hence, I reduced the dataset dimensions, using TrauncatedSVD. TruncatedSVD is a dimensionality reduction method that can be used to reduce the number of features in a dataset while preserving as much information as possible. It is a variant of Singular Value Decomposition (SVD), which is a method for decomposing a matrix into its singular vectors and singular values. TruncatedSVD works by first computing the SVD of the input matrix, and then keeping only the top k singular vectors and corresponding singular values, where k is a user-specified parameter. This results in a reduced matrix with fewer columns (features) but which still contains most of the information from the original matrix.</span>"
   ]
  },
  {
   "cell_type": "code",
   "execution_count": 21,
   "metadata": {},
   "outputs": [],
   "source": [
    "# Create a TruncatedSVD instance with the desired number of dimensions (k)\n",
    "svd = TruncatedSVD(n_components=1000)\n",
    "# Use the fit_transform method to reduce the training set to k dimensions\n",
    "xtrain_reduced = svd.fit_transform(xtrain)\n",
    "xtest_reduced = svd.transform(xtest)"
   ]
  },
  {
   "cell_type": "code",
   "execution_count": 22,
   "metadata": {},
   "outputs": [
    {
     "data": {
      "image/png": "[encoded data removed]",
      "text/plain": [
       "<Figure size 640x480 with 1 Axes>"
      ]
     },
     "metadata": {},
     "output_type": "display_data"
    }
   ],
   "source": [
    "# from sklearn.datasets import fetch_20newsgroups\n",
    "# from sklearn.decomposition import TruncatedSVD\n",
    "# import matplotlib.pyplot as plt\n",
    "\n",
    "# # Load the 20 newsgroups dataset\n",
    "# data = fetch_20newsgroups()\n",
    "\n",
    "# # Apply TruncatedSVD to the data\n",
    "# svd = TruncatedSVD(n_components=100)\n",
    "# X_reduced = svd.fit_transform(data.data)\n",
    "\n",
    "# Compute the explained variance ratio for each component\n",
    "evr = svd.explained_variance_ratio_\n",
    "\n",
    "# Plot the EVR as a function of the number of components\n",
    "plt.plot(evr)\n",
    "plt.xlabel('Number of components')\n",
    "plt.ylabel('Explained variance ratio')\n",
    "plt.show()\n"
   ]
  },
  {
   "cell_type": "code",
   "execution_count": 23,
   "metadata": {},
   "outputs": [
    {
     "name": "stdout",
     "output_type": "stream",
     "text": [
      "Classification Accuracy %: 0.7818640467339352\n",
      "Classification Report:                precision    recall  f1-score   support\n",
      "\n",
      "           0       0.71      0.63      0.66       319\n",
      "           1       0.64      0.74      0.68       389\n",
      "           2       0.71      0.70      0.70       394\n",
      "           3       0.60      0.71      0.65       392\n",
      "           4       0.78      0.76      0.77       385\n",
      "           5       0.84      0.69      0.75       395\n",
      "           6       0.83      0.84      0.83       390\n",
      "           7       0.87      0.84      0.86       396\n",
      "           8       0.97      0.89      0.93       398\n",
      "           9       0.92      0.88      0.90       397\n",
      "          10       0.94      0.91      0.93       399\n",
      "          11       0.97      0.85      0.90       396\n",
      "          12       0.60      0.77      0.68       393\n",
      "          13       0.85      0.80      0.82       396\n",
      "          14       0.93      0.86      0.89       394\n",
      "          15       0.73      0.90      0.80       398\n",
      "          16       0.71      0.86      0.78       364\n",
      "          17       0.97      0.73      0.83       376\n",
      "          18       0.65      0.59      0.62       310\n",
      "          19       0.53      0.52      0.52       251\n",
      "\n",
      "    accuracy                           0.78      7532\n",
      "   macro avg       0.79      0.77      0.78      7532\n",
      "weighted avg       0.79      0.78      0.78      7532\n",
      "\n"
     ]
    }
   ],
   "source": [
    "# Create a LinearDiscriminantAnalysis object\n",
    "lda = OneVsRestClassifier(LinearDiscriminantAnalysis(solver='lsqr', shrinkage='auto', tol='1.0e-2'))\n",
    "# Fit the model to the data\n",
    "lda.fit(xtrain_reduced, ytrain)\n",
    "# Use the trained model to predict the class of new data\n",
    "pred = lda.predict(xtest_reduced)\n",
    "print('Classification Accuracy %:', accuracy_score(ytest, pred))\n",
    "print('Classification Report: ', classification_report(ytest, pred))"
   ]
  },
  {
   "cell_type": "markdown",
   "metadata": {},
   "source": [
    "<h3>ii. One vs One"
   ]
  },
  {
   "cell_type": "code",
   "execution_count": 24,
   "metadata": {},
   "outputs": [
    {
     "name": "stdout",
     "output_type": "stream",
     "text": [
      "Classification Accuracy %: 0.7668613913967074\n",
      "Classification Report:                precision    recall  f1-score   support\n",
      "\n",
      "           0       0.70      0.69      0.69       319\n",
      "           1       0.63      0.69      0.66       389\n",
      "           2       0.72      0.68      0.70       394\n",
      "           3       0.62      0.66      0.64       392\n",
      "           4       0.75      0.75      0.75       385\n",
      "           5       0.77      0.70      0.73       395\n",
      "           6       0.82      0.86      0.84       390\n",
      "           7       0.83      0.83      0.83       396\n",
      "           8       0.94      0.89      0.91       398\n",
      "           9       0.90      0.85      0.87       397\n",
      "          10       0.93      0.90      0.92       399\n",
      "          11       0.90      0.84      0.87       396\n",
      "          12       0.65      0.71      0.67       393\n",
      "          13       0.74      0.72      0.73       396\n",
      "          14       0.85      0.82      0.84       394\n",
      "          15       0.76      0.88      0.82       398\n",
      "          16       0.70      0.84      0.76       364\n",
      "          17       0.90      0.79      0.84       376\n",
      "          18       0.63      0.56      0.59       310\n",
      "          19       0.55      0.51      0.52       251\n",
      "\n",
      "    accuracy                           0.77      7532\n",
      "   macro avg       0.76      0.76      0.76      7532\n",
      "weighted avg       0.77      0.77      0.77      7532\n",
      "\n"
     ]
    }
   ],
   "source": [
    "clf = OneVsOneClassifier(LinearDiscriminantAnalysis(solver='lsqr', shrinkage='auto', tol='1.0e-2'))\n",
    "clf.fit(xtrain_reduced, ytrain)\n",
    "pred = clf.predict(xtest_reduced)\n",
    "print('Classification Accuracy %:', accuracy_score(ytest, pred))\n",
    "print('Classification Report: ', classification_report(ytest, pred))"
   ]
  },
  {
   "cell_type": "markdown",
   "metadata": {},
   "source": [
    "<h3>2. Variable Selection via Forward and Backward Search"
   ]
  },
  {
   "cell_type": "markdown",
   "metadata": {},
   "source": [
    "<h3>Load the dataset regression.npy, the dataset consists of over 100 predictors. We generated the regression\n",
    "dataset such that only a few predictors are relevant. Perform the following experiments using the least angle\n",
    "regression algorithm"
   ]
  },
  {
   "cell_type": "markdown",
   "metadata": {},
   "source": [
    "<h3>1. Forward Search"
   ]
  },
  {
   "cell_type": "code",
   "execution_count": 25,
   "metadata": {},
   "outputs": [],
   "source": [
    "with open('regression.npy', 'rb') as f:\n",
    "    X = np.load(f)\n",
    "    y = np.load(f)\n",
    "import warnings\n",
    "warnings.filterwarnings(\"ignore\")\n",
    "\n",
    "from sklearn.pipeline import make_pipeline\n",
    "from sklearn import preprocessing\n",
    "from sklearn.feature_selection import SequentialFeatureSelector\n",
    "n, m = X.shape\n",
    "split = int(0.8 * n)\n",
    "p = np.random.permutation(n)\n",
    "ones = np.ones(shape=X.shape[0]).reshape(-1, 1)\n",
    "x_data = preprocessing.normalize(X) # NORMALIZING HERE!!!!!!!!!!!\n",
    "x_data = np.concatenate((ones,x_data), 1)\n",
    "x_train1 = x_data[p[:split]]\n",
    "y_train1 = y[p[:split]]\n",
    "x_valid1 = x_data[p[split:]]\n",
    "y_valid1 = y[p[split:]]"
   ]
  },
  {
   "cell_type": "markdown",
   "metadata": {},
   "source": [
    "<h3> Forward search with SKLEARN"
   ]
  },
  {
   "cell_type": "code",
   "execution_count": 26,
   "metadata": {},
   "outputs": [
    {
     "name": "stdout",
     "output_type": "stream",
     "text": [
      "Features obtained: [0, 1, 2, 3, 4, 6, 7, 12, 14, 17, 21, 22, 25, 26, 27, 29, 30, 31, 32, 33, 34, 35, 36, 40, 41, 42, 46, 47, 49, 50, 51, 54, 55, 60, 61, 62, 65, 69, 72, 74, 76, 78, 79, 80, 81, 84, 86, 90, 96, 97]\n",
      "MSE from Forward Search:\n",
      " 8.644464865020298\n"
     ]
    }
   ],
   "source": [
    "model = linear_model.Lars().fit(x_train1, y_train1)\n",
    "sfs = SequentialFeatureSelector(model, n_features_to_select= 50, direction=\"forward\").fit(X, y)\n",
    "features_boolean = sfs.get_support().tolist()\n",
    "\n",
    "feature_list = []\n",
    "for i in range(len(features_boolean)):\n",
    "    if features_boolean[i]:\n",
    "        feature_list.append(i)\n",
    "\n",
    "print(\"Features obtained:\", feature_list)\n",
    "lars_new_model = Lars()\n",
    "lars_new_model.fit(x_train1[:,feature_list],y_train1)\n",
    "predictions = lars_new_model.predict(x_valid1[:,feature_list])\n",
    "mseScore = mean_squared_error(y_valid1,predictions)\n",
    "print(\"MSE from Forward Search:\\n\",mseScore)"
   ]
  },
  {
   "cell_type": "code",
   "execution_count": 27,
   "metadata": {},
   "outputs": [],
   "source": [
    "def performance(x_train, y_train, x_valid, y_valid):\n",
    "    model = linear_model.Lars().fit(x_train, y_train)\n",
    "    coef = model.coef_\n",
    "    predictions= model.predict(x_valid)\n",
    "    error_computed = mean_squared_error(y_valid, predictions)\n",
    "    return error_computed, coef, model"
   ]
  },
  {
   "cell_type": "markdown",
   "metadata": {},
   "source": [
    "<h3> Custom Implementation"
   ]
  },
  {
   "cell_type": "code",
   "execution_count": 28,
   "metadata": {},
   "outputs": [],
   "source": [
    "def forward_search(x_train, y_train, x_valid, y_valid):\n",
    "    M = x_train.shape[1]; totalFeatures = set(range(M)); features = set(); initial_error = np.inf; best_feature = not None\n",
    "    while best_feature is not None:\n",
    "        best_feature = None; best_error = initial_error\n",
    "        for f in totalFeatures - features:\n",
    "            add_new_feature = list(features | {f})\n",
    "            error_computed, coef, _ = performance(x_train[:, add_new_feature], y_train, x_valid[:, add_new_feature], y_valid)\n",
    "            if error_computed < best_error:\n",
    "                best_feature = f\n",
    "                best_error = error_computed\n",
    "        if best_error < initial_error:\n",
    "            features = features | {best_feature}\n",
    "            initial_error = best_error\n",
    "    return features, best_error, coef\n"
   ]
  },
  {
   "cell_type": "code",
   "execution_count": 29,
   "metadata": {},
   "outputs": [
    {
     "name": "stdout",
     "output_type": "stream",
     "text": [
      "forward search features: \n",
      " {1, 2, 3, 4, 5, 6, 7, 8, 9, 10, 11, 13, 14, 17, 18, 19, 20, 21, 22, 24, 25, 26, 27, 29, 31, 32, 34, 36, 39, 41, 43, 44, 45, 47, 49, 51, 52, 53, 54, 55, 56, 58, 61, 62, 63, 64, 65, 66, 69, 74, 75, 76, 77, 78, 80, 81, 82, 84, 86, 88, 89, 90, 93, 97, 100}\n",
      "forward best MSE: \n",
      " 6.261936532911846\n"
     ]
    }
   ],
   "source": [
    "featuresForward, mseForward, fwdCoef = forward_search(x_train1 , y_train1 , x_valid1 , y_valid1)\n",
    "print('forward search features: \\n', featuresForward)\n",
    "print('forward best MSE: \\n', mseForward)"
   ]
  },
  {
   "cell_type": "markdown",
   "metadata": {},
   "source": [
    "<h3>2. Backward Search"
   ]
  },
  {
   "cell_type": "markdown",
   "metadata": {},
   "source": [
    "<h3> Backward Search with SKLEARN"
   ]
  },
  {
   "cell_type": "code",
   "execution_count": 30,
   "metadata": {},
   "outputs": [
    {
     "name": "stdout",
     "output_type": "stream",
     "text": [
      "Features obtained: [0, 1, 2, 3, 4, 6, 7, 12, 14, 17, 21, 22, 25, 26, 27, 29, 30, 31, 32, 33, 34, 35, 36, 40, 41, 42, 46, 47, 49, 50, 51, 54, 55, 60, 61, 62, 65, 69, 72, 74, 76, 78, 79, 80, 81, 84, 86, 90, 96, 97]\n",
      "MSE from Backward Search:\n",
      "  8.644464865020298\n"
     ]
    }
   ],
   "source": [
    "model = linear_model.Lars().fit(x_train1, y_train1)\n",
    "sfs = SequentialFeatureSelector(model, n_features_to_select= 50, direction=\"backward\").fit(X, y)\n",
    "features_boolean = sfs.get_support().tolist()\n",
    "\n",
    "feature_list = []\n",
    "for i in range(len(features_boolean)):\n",
    "    if features_boolean[i]:\n",
    "        feature_list.append(i)\n",
    "\n",
    "print(\"Features obtained:\", feature_list)\n",
    "lars_new_model = Lars()\n",
    "lars_new_model.fit(x_train1[:,feature_list],y_train1)\n",
    "predictions = lars_new_model.predict(x_valid1[:,feature_list])\n",
    "mseScore = mean_squared_error(y_valid1,predictions)\n",
    "print(\"MSE from Backward Search:\\n \",mseScore)"
   ]
  },
  {
   "cell_type": "markdown",
   "metadata": {},
   "source": [
    "<h3>Custom Implementation"
   ]
  },
  {
   "cell_type": "code",
   "execution_count": 31,
   "metadata": {},
   "outputs": [],
   "source": [
    "def backward_search(x_train, y_train, x_valid, y_valid):\n",
    "    M = x_train.shape[1]\n",
    "    features = set(range(M))\n",
    "    best_feature = 1\n",
    "    error = np.inf\n",
    "    while best_feature is not None:\n",
    "        best_feature = None\n",
    "        best_error = error\n",
    "        for f in features:\n",
    "            add_new_feature = list(features-{f})\n",
    "            error_computed, coef, _ = performance(x_train[:, :len(add_new_feature)], y_train, x_valid[:, :len(add_new_feature)], y_valid)\n",
    "            if error_computed < best_error:\n",
    "                best_feature = f\n",
    "                best_error = error_computed\n",
    "        if best_error < error:\n",
    "            features = features - {best_feature}\n",
    "            error = best_error\n",
    "    return features, best_error, coef"
   ]
  },
  {
   "cell_type": "code",
   "execution_count": 32,
   "metadata": {},
   "outputs": [
    {
     "name": "stdout",
     "output_type": "stream",
     "text": [
      "backward search features: \n",
      " {2, 3, 4, 5, 6, 7, 8, 9, 10, 11, 12, 13, 14, 15, 16, 17, 18, 19, 20, 21, 22, 23, 24, 25, 26, 27, 28, 29, 30, 31, 32, 33, 34, 35, 36, 37, 38, 39, 40, 41, 42, 43, 44, 45, 46, 47, 48, 49, 50, 51, 52, 53, 54, 55, 56, 57, 58, 59, 60, 61, 62, 63, 64, 65, 66, 67, 68, 69, 70, 71, 72, 73, 74, 75, 76, 77, 78, 79, 80, 81, 82, 83, 84, 85, 86, 87, 88, 89, 90, 91, 92, 93, 94, 95, 96, 97, 98, 99, 100}\n",
      "backward best MSE: \n",
      " 6.340086059859352\n"
     ]
    }
   ],
   "source": [
    "featuresBackward, mseBackward, bckCoef = backward_search(x_train1 , y_train1 , x_valid1 , y_valid1 )\n",
    "print('backward search features: \\n', featuresBackward)\n",
    "print('backward best MSE: \\n', mseBackward)"
   ]
  },
  {
   "cell_type": "markdown",
   "metadata": {},
   "source": [
    "<h3>Print out the indices of the selected features, compare the outputs of the two methods. Are the indices the same?"
   ]
  },
  {
   "cell_type": "markdown",
   "metadata": {},
   "source": [
    "<h3><span style=\"color:blue\">The features from ForwardSearch and BackwardSearch are not the same</span>"
   ]
  },
  {
   "cell_type": "code",
   "execution_count": 33,
   "metadata": {},
   "outputs": [
    {
     "name": "stdout",
     "output_type": "stream",
     "text": [
      "forward search features: \n",
      " {1, 2, 3, 4, 5, 6, 7, 8, 9, 10, 11, 13, 14, 17, 18, 19, 20, 21, 22, 24, 25, 26, 27, 29, 31, 32, 34, 36, 39, 41, 43, 44, 45, 47, 49, 51, 52, 53, 54, 55, 56, 58, 61, 62, 63, 64, 65, 66, 69, 74, 75, 76, 77, 78, 80, 81, 82, 84, 86, 88, 89, 90, 93, 97, 100}\n",
      "backward search features: \n",
      " {2, 3, 4, 5, 6, 7, 8, 9, 10, 11, 12, 13, 14, 15, 16, 17, 18, 19, 20, 21, 22, 23, 24, 25, 26, 27, 28, 29, 30, 31, 32, 33, 34, 35, 36, 37, 38, 39, 40, 41, 42, 43, 44, 45, 46, 47, 48, 49, 50, 51, 52, 53, 54, 55, 56, 57, 58, 59, 60, 61, 62, 63, 64, 65, 66, 67, 68, 69, 70, 71, 72, 73, 74, 75, 76, 77, 78, 79, 80, 81, 82, 83, 84, 85, 86, 87, 88, 89, 90, 91, 92, 93, 94, 95, 96, 97, 98, 99, 100}\n"
     ]
    }
   ],
   "source": [
    "print('forward search features: \\n', featuresForward)\n",
    "print('backward search features: \\n', featuresBackward)"
   ]
  },
  {
   "cell_type": "markdown",
   "metadata": {},
   "source": [
    "<h3>3 Regularization"
   ]
  },
  {
   "cell_type": "markdown",
   "metadata": {},
   "source": [
    "<h3>Variable selection via forward and backward search drops some predictors; in some cases, we don’t want to remove\n",
    "these predictors. Rather we want their coefficients to be small as possible. We are going to test the effect of the\n",
    "regularization term alpha. Try the following alpha values: [10, 1, 0.1, 0.0001, 0.00001 ], use regression.npy\n",
    "dataset"
   ]
  },
  {
   "cell_type": "code",
   "execution_count": 34,
   "metadata": {},
   "outputs": [],
   "source": [
    "mseList = []\n",
    "alphaList = []"
   ]
  },
  {
   "cell_type": "markdown",
   "metadata": {},
   "source": [
    "<h3>1. GridSearch"
   ]
  },
  {
   "cell_type": "markdown",
   "metadata": {},
   "source": [
    "<h3>a) Ridge regression"
   ]
  },
  {
   "cell_type": "code",
   "execution_count": 35,
   "metadata": {},
   "outputs": [
    {
     "name": "stdout",
     "output_type": "stream",
     "text": [
      "{'alpha': 0.0001}\n",
      "Mean squared error is:  6.285025173533575\n"
     ]
    }
   ],
   "source": [
    "model = Ridge()\n",
    "param_grid = {'alpha': [10, 1, 0.1, 0.0001, 0.00001 ]}\n",
    "grid_search = GridSearchCV(model, param_grid, cv=5)\n",
    "grid_search.fit(x_train1, y_train1)\n",
    "print(grid_search.best_params_)\n",
    "optimumAlpha = grid_search.best_params_['alpha']\n",
    "\n",
    "model = Ridge(alpha = optimumAlpha)\n",
    "model.fit(x_train1, y_train1)\n",
    "gRidgeCoef = model.coef_\n",
    "# print('coeffs are: ', model.coef_)\n",
    "\n",
    "pred = model.predict(x_valid1)\n",
    "score = mean_squared_error(y_valid1, pred)\n",
    "print('Mean squared error is: ', score)\n",
    "# score = model.score(x_valid1, y_valid1)\n",
    "# print('R2 error is: ', score)\n",
    "mseList.append(score)\n",
    "alphaList.append(optimumAlpha)\n"
   ]
  },
  {
   "cell_type": "markdown",
   "metadata": {},
   "source": [
    "<h3>b) Lasso"
   ]
  },
  {
   "cell_type": "code",
   "execution_count": 36,
   "metadata": {},
   "outputs": [
    {
     "name": "stdout",
     "output_type": "stream",
     "text": [
      "{'alpha': 1e-05}\n",
      "Mean squared error is:  6.285763008577142\n"
     ]
    }
   ],
   "source": [
    "model = Lasso()\n",
    "param_grid = {'alpha': [10, 1, 0.1, 0.0001, 0.00001 ]}\n",
    "grid_search = GridSearchCV(model, param_grid, cv=5)\n",
    "grid_search.fit(x_train1, y_train1)\n",
    "print(grid_search.best_params_)\n",
    "optimumAlpha = grid_search.best_params_['alpha']\n",
    "\n",
    "model = Lasso(alpha = optimumAlpha)\n",
    "model.fit(x_train1, y_train1)\n",
    "gLassoCoef = model.coef_\n",
    "# print('coeffs are: ', model.coef_)\n",
    "\n",
    "pred = model.predict(x_valid1)\n",
    "score = mean_squared_error(y_valid1, pred)\n",
    "print('Mean squared error is: ', score)\n",
    "# score = model.score(x_valid1, y_valid1)\n",
    "# print('R2 error is: ', score)\n",
    "mseList.append(score)\n",
    "alphaList.append(optimumAlpha)"
   ]
  },
  {
   "cell_type": "markdown",
   "metadata": {},
   "source": [
    "<h3>c) Elastic-Net\n"
   ]
  },
  {
   "cell_type": "code",
   "execution_count": 37,
   "metadata": {},
   "outputs": [
    {
     "name": "stdout",
     "output_type": "stream",
     "text": [
      "{'alpha': 1e-05}\n",
      "Mean squared error is:  6.285619301264818\n"
     ]
    }
   ],
   "source": [
    "model = ElasticNet()\n",
    "param_grid = {'alpha': [10, 1, 0.1, 0.0001, 0.00001 ]}\n",
    "grid_search = GridSearchCV(model, param_grid, cv=5)\n",
    "grid_search.fit(x_train1, y_train1)\n",
    "print(grid_search.best_params_)\n",
    "optimumAlpha = grid_search.best_params_['alpha']\n",
    "\n",
    "model = ElasticNet(alpha = optimumAlpha)\n",
    "model.fit(x_train1, y_train1)\n",
    "gElasticCoef = model.coef_\n",
    "pred = model.predict(x_valid1)\n",
    "score = mean_squared_error(y_valid1, pred)\n",
    "print('Mean squared error is: ', score)\n",
    "# score = model.score(x_valid1, y_valid1)\n",
    "# print('R2 error is: ', score)\n",
    "mseList.append(score)\n",
    "alphaList.append(optimumAlpha)"
   ]
  },
  {
   "cell_type": "markdown",
   "metadata": {},
   "source": [
    "<h3>2. RandomSearch\n"
   ]
  },
  {
   "cell_type": "markdown",
   "metadata": {},
   "source": [
    "<h3>a) Ridge regression\n"
   ]
  },
  {
   "cell_type": "code",
   "execution_count": 38,
   "metadata": {},
   "outputs": [
    {
     "name": "stdout",
     "output_type": "stream",
     "text": [
      "{'alpha': 0.0001}\n",
      "Mean squared error is:  6.285025173533575\n"
     ]
    }
   ],
   "source": [
    "model = Ridge()\n",
    "random_search = RandomizedSearchCV(model, param_grid, cv=5)\n",
    "random_search.fit(x_train1, y_train1)\n",
    "print(random_search.best_params_)\n",
    "optimumAlpha = random_search.best_params_['alpha']\n",
    "\n",
    "model = Ridge(alpha = optimumAlpha)\n",
    "model.fit(x_train1, y_train1)\n",
    "pred = model.predict(x_valid1)\n",
    "score = mean_squared_error(y_valid1, pred)\n",
    "print('Mean squared error is: ', score)\n",
    "# score = model.score(x_valid1, y_valid1)\n",
    "# print('R2 error is: ', score)\n",
    "mseList.append(score)\n",
    "alphaList.append(optimumAlpha)"
   ]
  },
  {
   "cell_type": "markdown",
   "metadata": {},
   "source": [
    "<h3>b) Lasso\n"
   ]
  },
  {
   "cell_type": "code",
   "execution_count": 39,
   "metadata": {},
   "outputs": [
    {
     "name": "stdout",
     "output_type": "stream",
     "text": [
      "{'alpha': 1e-05}\n",
      "Mean squared error is:  6.285763008577142\n"
     ]
    }
   ],
   "source": [
    "model = Lasso()\n",
    "random_search = RandomizedSearchCV(model, param_grid, cv=5)\n",
    "random_search.fit(x_train1, y_train1)\n",
    "print(random_search.best_params_)\n",
    "optimumAlpha = random_search.best_params_['alpha']\n",
    "\n",
    "model = Lasso(alpha = optimumAlpha)\n",
    "model.fit(x_train1, y_train1)\n",
    "pred = model.predict(x_valid1)\n",
    "score = mean_squared_error(y_valid1, pred)\n",
    "print('Mean squared error is: ', score)\n",
    "# score = model.score(x_valid1, y_valid1)\n",
    "# print('R2 error is: ', score)\n",
    "mseList.append(score)\n",
    "alphaList.append(optimumAlpha)\n"
   ]
  },
  {
   "cell_type": "markdown",
   "metadata": {},
   "source": [
    "<h3>c) Elastic-Net"
   ]
  },
  {
   "cell_type": "code",
   "execution_count": 40,
   "metadata": {},
   "outputs": [
    {
     "name": "stdout",
     "output_type": "stream",
     "text": [
      "{'alpha': 1e-05}\n",
      "Mean squared error is:  6.285619301264818\n"
     ]
    }
   ],
   "source": [
    "model = ElasticNet()\n",
    "random_search = RandomizedSearchCV(model, param_grid, cv=5)\n",
    "random_search.fit(x_train1, y_train1)\n",
    "print(random_search.best_params_)\n",
    "optimumAlpha = random_search.best_params_['alpha']\n",
    "\n",
    "model = ElasticNet(alpha = optimumAlpha)\n",
    "model.fit(x_train1, y_train1)\n",
    "pred = model.predict(x_valid1)\n",
    "# print('coeffs are: ', )\n",
    "score = mean_squared_error(y_valid1, pred)\n",
    "print('Mean squared error is: ', score)\n",
    "# score = model.score(x_valid1, y_valid1)\n",
    "# print('R2 error is: ', score)\n",
    "mseList.append(score)\n",
    "alphaList.append(optimumAlpha)\n"
   ]
  },
  {
   "cell_type": "code",
   "execution_count": 41,
   "metadata": {},
   "outputs": [
    {
     "name": "stdout",
     "output_type": "stream",
     "text": [
      "(6.285025173533575, 0.0001)\n",
      "(6.285763008577142, 1e-05)\n",
      "(6.285619301264818, 1e-05)\n",
      "(6.285025173533575, 0.0001)\n",
      "(6.285763008577142, 1e-05)\n",
      "(6.285619301264818, 1e-05)\n"
     ]
    }
   ],
   "source": [
    "for i in list(zip(mseList, alphaList)):\n",
    "    print(i)"
   ]
  },
  {
   "cell_type": "markdown",
   "metadata": {},
   "source": [
    "<h3>3. Briefly discuss the effect of high and low values of alpha. Then, return the best three models with their respective alpha values using the appropriate metric"
   ]
  },
  {
   "cell_type": "markdown",
   "metadata": {},
   "source": [
    "<h4><span style=\"color:blue\">High values of alpha will result in more regularization, which can help prevent overfitting and improve the stability and interpretability of the model. However, if the value of alpha is too high, it can also cause underfitting by reducing the model's flexibility and ability to fit the data. On the other hand, low values of alpha will result in less regularization, allowing the model to have more flexibility and potentially fit the data better. However, if the value of alpha is too low, the model may overfit the data and produce unstable or unreliable results.</span>\n"
   ]
  },
  {
   "cell_type": "markdown",
   "metadata": {},
   "source": [
    "<h3>4. Compare the best three models to the models from question 2. What do you observe?"
   ]
  },
  {
   "cell_type": "markdown",
   "metadata": {},
   "source": [
    "<h4><span style=\"color:blue\">Since the results are the same for Gridsearchcv and Randomsearch, which makes sense as these algorithms find the optimum value for alpha, which lead to the minimization of the cost. I will pick the first three alpha parameters.</span>\n"
   ]
  },
  {
   "cell_type": "markdown",
   "metadata": {},
   "source": [
    "\n",
    "a) Ridge regression\n",
    "b) Lasso\n",
    "c) Elastic-Net\n"
   ]
  },
  {
   "cell_type": "code",
   "execution_count": 42,
   "metadata": {},
   "outputs": [],
   "source": [
    "mseBar = mseList[:3]\n",
    "mseBar.append(mseForward)\n",
    "mseBar.append(mseBackward)"
   ]
  },
  {
   "cell_type": "code",
   "execution_count": 43,
   "metadata": {},
   "outputs": [
    {
     "name": "stdout",
     "output_type": "stream",
     "text": [
      "Ridge, Lasso, ElasticNet, ForwardSearch, FackwardSearch\n",
      " [6.285025173533575, 6.285763008577142, 6.285619301264818, 6.261936532911846, 6.340086059859352]\n"
     ]
    }
   ],
   "source": [
    "print('Ridge, Lasso, ElasticNet, ForwardSearch, FackwardSearch\\n', mseBar)"
   ]
  },
  {
   "cell_type": "code",
   "execution_count": 44,
   "metadata": {},
   "outputs": [
    {
     "name": "stdout",
     "output_type": "stream",
     "text": [
      "Minimum MSE is from Forward Search:  6.261936532911846\n"
     ]
    }
   ],
   "source": [
    "mseBar.index(min(mseBar))\n",
    "print('Minimum MSE is from Forward Search: ', mseBar[3])"
   ]
  },
  {
   "cell_type": "markdown",
   "metadata": {},
   "source": [
    "<h4><span style=\"color:blue\">As per the results, the best performing model in this case if Forward Search which gives the best results, which could be due to the fact that the weights might have diminished but not gone to 0 entirely which might be reflected as this slight increase in the error as compared to Forward Search which completely removes the columns that do not positively affect the minimization of the error. However, this is not a global case, and usually this leads to poor solutions and curating a list of features which are not the best, however in this case it performed good.</span>\n"
   ]
  },
  {
   "cell_type": "markdown",
   "metadata": {},
   "source": [
    "<h3>5. Get the indices of the top k coefficient of these three models and compare them with the features selected\n",
    "via the forward and back search method. Feel free to try different values of k"
   ]
  },
  {
   "cell_type": "markdown",
   "metadata": {},
   "source": [
    "<h4><span style=\"color:blue\">From the outputs below, we can observer for all the models all the dominant features are the same at the positions 0 1 2 3 4 5</span>\n"
   ]
  },
  {
   "cell_type": "markdown",
   "metadata": {},
   "source": [
    "<h4><span style=\"color:blue\"></span>\n"
   ]
  },
  {
   "cell_type": "code",
   "execution_count": 45,
   "metadata": {},
   "outputs": [],
   "source": [
    "def max_k(arr, k):\n",
    "    # Compute the indices of the k largest values in the array\n",
    "    indices = np.argpartition(arr, -k)[-k:]\n",
    "    # Extract the maximum k values and their positions from the array\n",
    "    max_k_values = arr[indices]\n",
    "    max_k_positions = np.argsort(arr[indices])[::-1]\n",
    "    # Sort the array of maximum k values according to the positions of the maximum k values in the original array\n",
    "    sorted_max_k_values = max_k_values[np.argsort(max_k_positions)]\n",
    "    return sorted_max_k_values, max_k_positions\n"
   ]
  },
  {
   "cell_type": "code",
   "execution_count": 46,
   "metadata": {},
   "outputs": [],
   "source": [
    "# gRidgeCoef[1:10]"
   ]
  },
  {
   "cell_type": "code",
   "execution_count": 47,
   "metadata": {},
   "outputs": [],
   "source": [
    "# gLassoCoef[1:10]"
   ]
  },
  {
   "cell_type": "code",
   "execution_count": 48,
   "metadata": {},
   "outputs": [],
   "source": [
    "# gElasticCoef[1:10]"
   ]
  },
  {
   "cell_type": "code",
   "execution_count": 49,
   "metadata": {},
   "outputs": [],
   "source": [
    "# fwdCoef[1:10]"
   ]
  },
  {
   "cell_type": "code",
   "execution_count": 50,
   "metadata": {},
   "outputs": [],
   "source": [
    "# bckCoef[1:10]"
   ]
  },
  {
   "cell_type": "code",
   "execution_count": 51,
   "metadata": {},
   "outputs": [],
   "source": [
    "k = 5"
   ]
  },
  {
   "cell_type": "code",
   "execution_count": 52,
   "metadata": {},
   "outputs": [
    {
     "name": "stdout",
     "output_type": "stream",
     "text": [
      "coefficient values: [61.1434036  41.48622485 40.75673856 32.34406106  4.44094882] \n",
      " positions: [4 3 2 1 0]\n"
     ]
    }
   ],
   "source": [
    "vals, coefs = max_k(gRidgeCoef, k)\n",
    "print('coefficient values: {} \\n positions: {}'.format(vals, coefs))"
   ]
  },
  {
   "cell_type": "code",
   "execution_count": 53,
   "metadata": {},
   "outputs": [
    {
     "name": "stdout",
     "output_type": "stream",
     "text": [
      "coefficient values: [61.10246672 41.44295062 40.71421231 32.30407641  4.39925742] \n",
      " positions: [4 3 2 1 0]\n"
     ]
    }
   ],
   "source": [
    "vals, coefs = max_k(gLassoCoef, k)\n",
    "print('coefficient values: {} \\n positions: {}'.format(vals, coefs))"
   ]
  },
  {
   "cell_type": "code",
   "execution_count": 54,
   "metadata": {},
   "outputs": [
    {
     "name": "stdout",
     "output_type": "stream",
     "text": [
      "coefficient values: [40.57667876 41.29854761  4.33418192 32.1861859  60.92444053] \n",
      " positions: [2 3 4 1 0]\n"
     ]
    }
   ],
   "source": [
    "vals, coefs = max_k(gElasticCoef, k)\n",
    "print('coefficient values: {} \\n positions: {}'.format(vals, coefs))"
   ]
  },
  {
   "cell_type": "code",
   "execution_count": 55,
   "metadata": {},
   "outputs": [
    {
     "name": "stdout",
     "output_type": "stream",
     "text": [
      "coefficient values: [39.5918596  38.89117224  2.14385536 59.31896068 30.50583422] \n",
      " positions: [2 4 3 1 0]\n"
     ]
    }
   ],
   "source": [
    "vals, coefs = max_k(fwdCoef, k)\n",
    "print('coefficient values: {} \\n positions: {}'.format(vals, coefs))"
   ]
  },
  {
   "cell_type": "code",
   "execution_count": 56,
   "metadata": {},
   "outputs": [
    {
     "name": "stdout",
     "output_type": "stream",
     "text": [
      "coefficient values: [41.92919566 41.156475    4.94033556 61.67931821 32.89247886] \n",
      " positions: [2 4 3 1 0]\n"
     ]
    }
   ],
   "source": [
    "vals, coefs = max_k(bckCoef, k)\n",
    "print('coefficient values: {} \\n positions: {}'.format(vals, coefs))"
   ]
  },
  {
   "cell_type": "markdown",
   "metadata": {},
   "source": [
    "<h3>Sklearn is a very powerful high-level Machine learning API. It has a clean implementation of almost all the\n",
    "popular machine-learning algorithms. This task will introduce you to how to write a custom estimator in sklearn.\n"
   ]
  },
  {
   "cell_type": "markdown",
   "metadata": {},
   "source": [
    "1. Create a python class called MyLinearRegression\n",
    "2. Ensure your class inherit from sklearn BaseEstimator and RegressorMixin\n",
    "3. Implement fit(X,Y) method, and returns self\n",
    "4. Implement predict(X) method\n",
    "5. Use check estimator() method to know if your estimator(MyLinearRegression) is valid\n",
    "6. Fit the dataset below using your custom estimator. Remember 80:20 split"
   ]
  },
  {
   "cell_type": "code",
   "execution_count": 57,
   "metadata": {},
   "outputs": [
    {
     "name": "stdout",
     "output_type": "stream",
     "text": [
      "betas [-1.34714286] 5.435\n",
      "R2 score is:  -2584.778304773561\n",
      "mean squares error is:  46.946241666666644\n"
     ]
    }
   ],
   "source": [
    "class MyLinearRegression(BaseEstimator, RegressorMixin):\n",
    "    def fit(self, X, y):\n",
    "        X, y = check_X_y(X, y)\n",
    "        reg = LinearRegression()\n",
    "        \n",
    "        reg.fit(X, y)\n",
    "        # self.set_params = reg.get_params\n",
    "        self.coef_ = reg.coef_\n",
    "        self.intercept_ = reg.intercept_\n",
    "        return self\n",
    "\n",
    "    def predict(self, X):\n",
    "        check_is_fitted(self)\n",
    "        X = check_array(X)\n",
    "        try:\n",
    "            y_pred = X @ self.coef_\n",
    "        except:\n",
    "            print('x shape is:', X.shape)\n",
    "            cof = np.asanyarray(self.coef_)\n",
    "            print('cof shape: ', cof.shape)\n",
    "            y_pred = np.zeros(X.shape[1])\n",
    "        y_pred = y_pred.astype(float64)\n",
    "        if any(isnan(y_pred)) or any(isinf(y_pred)):\n",
    "            raise ValueError('predict() produced NaN or inf values!')\n",
    "\n",
    "        return np.ravel(y_pred)\n",
    "\n",
    "\n",
    "reg = MyLinearRegression()\n",
    "\n",
    "#training data\n",
    "x_train = np.array([0.0, 0.5, 1.0, 1.5, 2.0, 2.5, 3.0, 3.5]).reshape(-1, 1)\n",
    "y_train = np.array([6.0, 4.83, 3.7, 3.15, 2.41, 1.83, 1.49, 1.21]).reshape(-1, 1)\n",
    "\n",
    "#test data\n",
    "X_test = np.array([4.5, 5.0, 4.0]).reshape(-1, 1)\n",
    "y_test = np.array([0.73, 0.64,  0.96]).reshape(-1, 1)\n",
    "\n",
    "sel = reg.fit(x_train, y_train)\n",
    "print('betas',sel.coef_,sel.intercept_)\n",
    "\n",
    "y_pred = reg.predict(X_test)\n",
    "score = reg.score(X_test, y_test)\n",
    "mse = mean_squared_error(y_test, y_pred)\n",
    "print('R2 score is: ', score)\n",
    "print('mean squares error is: ', mse)"
   ]
  },
  {
   "cell_type": "code",
   "execution_count": 58,
   "metadata": {},
   "outputs": [],
   "source": [
    "from sklearn.utils.estimator_checks import check_estimator\n",
    "\n",
    "estimator = MyLinearRegression()\n",
    "gen = check_estimator(estimator, generate_only=True)\n"
   ]
  },
  {
   "cell_type": "code",
   "execution_count": 59,
   "metadata": {},
   "outputs": [
    {
     "name": "stdout",
     "output_type": "stream",
     "text": [
      "Some tests failed!\n"
     ]
    }
   ],
   "source": [
    "from sklearn.utils.estimator_checks import check_estimator\n",
    "estimator = MyLinearRegression()\n",
    "# check_estimator(estimator)\n",
    "try:\n",
    "    check_estimator(estimator)\n",
    "except:\n",
    "    print('Some tests failed!')\n"
   ]
  },
  {
   "cell_type": "code",
   "execution_count": null,
   "metadata": {},
   "outputs": [],
   "source": []
  }
 ],
 "metadata": {
  "kernelspec": {
   "display_name": "Python 3.10.8 64-bit",
   "language": "python",
   "name": "python3"
  },
  "language_info": {
   "codemirror_mode": {
    "name": "ipython",
    "version": 3
   },
   "file_extension": ".py",
   "mimetype": "text/x-python",
   "name": "python",
   "nbconvert_exporter": "python",
   "pygments_lexer": "ipython3",
   "version": "3.10.8"
  },
  "orig_nbformat": 4,
  "vscode": {
   "interpreter": {
    "hash": "b0fa6594d8f4cbf19f97940f81e996739fb7646882a419484c72d19e05852a7e"
   }
  }
 },
 "nbformat": 4,
 "nbformat_minor": 2
}
