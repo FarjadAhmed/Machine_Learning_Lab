{
 "cells": [
  {
   "cell_type": "code",
   "execution_count": 1,
   "metadata": {},
   "outputs": [
    {
     "name": "stderr",
     "output_type": "stream",
     "text": [
      "/opt/homebrew/lib/python3.10/site-packages/tqdm/auto.py:22: TqdmWarning: IProgress not found. Please update jupyter and ipywidgets. See https://ipywidgets.readthedocs.io/en/stable/user_install.html\n",
      "  from .autonotebook import tqdm as notebook_tqdm\n"
     ]
    }
   ],
   "source": [
    "import pandas as pd\n",
    "from sklearn.preprocessing import StandardScaler, OneHotEncoder\n",
    "import torch\n",
    "import torch.nn as nn\n",
    "import torch.nn.functional as F\n",
    "import pytorch_lightning as pl\n",
    "from pytorch_lightning import Trainer\n",
    "from pytorch_lightning.callbacks import EarlyStopping, ModelCheckpoint\n",
    "from sklearn.model_selection import KFold\n",
    "from pytorch_lightning import Trainer\n",
    "from sklearn.model_selection import KFold\n",
    "from sklearn.model_selection import train_test_split\n",
    "from torch.utils.data import TensorDataset, DataLoader\n",
    "from sklearn.preprocessing import LabelEncoder\n",
    "from torch.utils.data import Dataset, DataLoader,TensorDataset,random_split,SubsetRandomSampler, ConcatDataset\n",
    "import numpy as np\n",
    "import warnings\n",
    "warnings.filterwarnings(\"ignore\")\n",
    "from pytorch_lightning import Trainer\n",
    "from pytorch_lightning.core.lightning import LightningModule\n",
    "from pytorch_lightning.loggers import TensorBoardLogger\n",
    "from pytorch_lightning import Trainer\n",
    "from pytorch_lightning.loggers import TensorBoardLogger\n",
    "from sklearn.model_selection import StratifiedKFold\n",
    "from torch.utils.data import DataLoader\n",
    "import matplotlib.pyplot as plt\n",
    "from catboost import CatBoostClassifier\n",
    "from torch.utils.tensorboard import SummaryWriter\n"
   ]
  },
  {
   "cell_type": "markdown",
   "metadata": {},
   "source": [
    "<h1> Load data and retrieve catergorical and numerical columns"
   ]
  },
  {
   "cell_type": "code",
   "execution_count": 2,
   "metadata": {},
   "outputs": [
    {
     "data": {
      "text/plain": [
       "Index(['age', 'job', 'marital', 'education', 'default', 'housing', 'loan',\n",
       "       'contact', 'month', 'day_of_week', 'duration', 'campaign', 'pdays',\n",
       "       'previous', 'poutcome', 'emp.var.rate', 'cons.price.idx',\n",
       "       'cons.conf.idx', 'euribor3m', 'nr.employed', 'y'],\n",
       "      dtype='object')"
      ]
     },
     "execution_count": 2,
     "metadata": {},
     "output_type": "execute_result"
    }
   ],
   "source": [
    "# Load the dataset\n",
    "df = pd.read_csv('bank-additional-full.csv', sep=';')\n",
    "df.columns"
   ]
  },
  {
   "cell_type": "code",
   "execution_count": 3,
   "metadata": {},
   "outputs": [
    {
     "data": {
      "text/plain": [
       "age                 int64\n",
       "job                object\n",
       "marital            object\n",
       "education          object\n",
       "default            object\n",
       "housing            object\n",
       "loan               object\n",
       "contact            object\n",
       "month              object\n",
       "day_of_week        object\n",
       "duration            int64\n",
       "campaign            int64\n",
       "pdays               int64\n",
       "previous            int64\n",
       "poutcome           object\n",
       "emp.var.rate      float64\n",
       "cons.price.idx    float64\n",
       "cons.conf.idx     float64\n",
       "euribor3m         float64\n",
       "nr.employed       float64\n",
       "y                  object\n",
       "dtype: object"
      ]
     },
     "execution_count": 3,
     "metadata": {},
     "output_type": "execute_result"
    }
   ],
   "source": [
    "df.dtypes"
   ]
  },
  {
   "cell_type": "code",
   "execution_count": 4,
   "metadata": {},
   "outputs": [
    {
     "name": "stdout",
     "output_type": "stream",
     "text": [
      "X shape:  (41188, 20)\n"
     ]
    }
   ],
   "source": [
    "# Split the dataset into features and target\n",
    "X = df.drop('y', axis=1)\n",
    "y = df['y']\n",
    "trainDf = X\n",
    "# Select numerical columns\n",
    "numerical_cols = X.select_dtypes(include=['int64', 'float64']).columns\n",
    "# Standardize the numerical features\n",
    "scaler = StandardScaler()\n",
    "X[numerical_cols] = scaler.fit_transform(X[numerical_cols])\n",
    "print('X shape: ', X.shape)\n",
    "# Select categorical columns\n",
    "categorical_cols = X.select_dtypes(include=['object']).columns"
   ]
  },
  {
   "cell_type": "code",
   "execution_count": 5,
   "metadata": {},
   "outputs": [
    {
     "data": {
      "text/plain": [
       "array([0, 0, 0, ..., 0, 1, 0])"
      ]
     },
     "execution_count": 5,
     "metadata": {},
     "output_type": "execute_result"
    }
   ],
   "source": [
    "# Encode the target variable\n",
    "encoder = LabelEncoder()\n",
    "y = encoder.fit_transform(y)\n",
    "y"
   ]
  },
  {
   "cell_type": "code",
   "execution_count": 6,
   "metadata": {},
   "outputs": [
    {
     "name": "stdout",
     "output_type": "stream",
     "text": [
      "# numerical cols 10\n"
     ]
    },
    {
     "data": {
      "text/plain": [
       "Index(['age', 'duration', 'campaign', 'pdays', 'previous', 'emp.var.rate',\n",
       "       'cons.price.idx', 'cons.conf.idx', 'euribor3m', 'nr.employed'],\n",
       "      dtype='object')"
      ]
     },
     "execution_count": 6,
     "metadata": {},
     "output_type": "execute_result"
    }
   ],
   "source": [
    "print('# numerical cols', len(numerical_cols))\n",
    "numerical_cols"
   ]
  },
  {
   "cell_type": "code",
   "execution_count": 7,
   "metadata": {},
   "outputs": [
    {
     "name": "stdout",
     "output_type": "stream",
     "text": [
      "# categorical cols 10\n"
     ]
    },
    {
     "data": {
      "text/plain": [
       "Index(['job', 'marital', 'education', 'default', 'housing', 'loan', 'contact',\n",
       "       'month', 'day_of_week', 'poutcome'],\n",
       "      dtype='object')"
      ]
     },
     "execution_count": 7,
     "metadata": {},
     "output_type": "execute_result"
    }
   ],
   "source": [
    "print('# categorical cols',len(categorical_cols))\n",
    "categorical_cols"
   ]
  },
  {
   "cell_type": "markdown",
   "metadata": {},
   "source": [
    "<h4> Encode and map categorical based on int values"
   ]
  },
  {
   "cell_type": "code",
   "execution_count": 8,
   "metadata": {},
   "outputs": [
    {
     "data": {
      "text/plain": [
       "{'basic.4y': 0,\n",
       " 'basic.6y': 1,\n",
       " 'basic.9y': 2,\n",
       " 'high.school': 3,\n",
       " 'illiterate': 4,\n",
       " 'professional.course': 5,\n",
       " 'university.degree': 6,\n",
       " 'unknown': 7}"
      ]
     },
     "execution_count": 8,
     "metadata": {},
     "output_type": "execute_result"
    }
   ],
   "source": [
    "# Category Mapping\n",
    "cat_dict = {}\n",
    "for col in categorical_cols:\n",
    "    # create a category column from the original column\n",
    "    category_col = trainDf[col].astype('category')\n",
    "    # create a dictionary for the column to store category to code mapping\n",
    "    cat_dict[col] = {value: idx for idx, value in enumerate(category_col.cat.categories)} \n",
    "# check the category to code mapping for the education column\n",
    "cat_dict['education']\n"
   ]
  },
  {
   "cell_type": "code",
   "execution_count": 9,
   "metadata": {},
   "outputs": [],
   "source": [
    "def encode_dataframe(cat_dict, df):\n",
    "    # Create a new DataFrame with a subset of columns\n",
    "    tempDf = df[list(cat_dict.keys())]\n",
    "    # Iterate over the columns in the new DataFrame\n",
    "    for column in tempDf.columns:\n",
    "        if column in cat_dict:\n",
    "            # Replace the values in the column with the encoded values\n",
    "            tempDf[column] = tempDf[column].replace(cat_dict[column])\n",
    "    return tempDf\n",
    "\n",
    "categoricalCols = encode_dataframe(cat_dict, X)"
   ]
  },
  {
   "cell_type": "code",
   "execution_count": 10,
   "metadata": {},
   "outputs": [
    {
     "data": {
      "text/html": [
       "<div>\n",
       "<style scoped>\n",
       "    .dataframe tbody tr th:only-of-type {\n",
       "        vertical-align: middle;\n",
       "    }\n",
       "\n",
       "    .dataframe tbody tr th {\n",
       "        vertical-align: top;\n",
       "    }\n",
       "\n",
       "    .dataframe thead th {\n",
       "        text-align: right;\n",
       "    }\n",
       "</style>\n",
       "<table border=\"1\" class=\"dataframe\">\n",
       "  <thead>\n",
       "    <tr style=\"text-align: right;\">\n",
       "      <th></th>\n",
       "      <th>job</th>\n",
       "      <th>marital</th>\n",
       "      <th>education</th>\n",
       "      <th>default</th>\n",
       "      <th>housing</th>\n",
       "      <th>loan</th>\n",
       "      <th>contact</th>\n",
       "      <th>month</th>\n",
       "      <th>day_of_week</th>\n",
       "      <th>poutcome</th>\n",
       "    </tr>\n",
       "  </thead>\n",
       "  <tbody>\n",
       "    <tr>\n",
       "      <th>0</th>\n",
       "      <td>3</td>\n",
       "      <td>1</td>\n",
       "      <td>0</td>\n",
       "      <td>0</td>\n",
       "      <td>0</td>\n",
       "      <td>0</td>\n",
       "      <td>1</td>\n",
       "      <td>6</td>\n",
       "      <td>1</td>\n",
       "      <td>1</td>\n",
       "    </tr>\n",
       "    <tr>\n",
       "      <th>1</th>\n",
       "      <td>7</td>\n",
       "      <td>1</td>\n",
       "      <td>3</td>\n",
       "      <td>1</td>\n",
       "      <td>0</td>\n",
       "      <td>0</td>\n",
       "      <td>1</td>\n",
       "      <td>6</td>\n",
       "      <td>1</td>\n",
       "      <td>1</td>\n",
       "    </tr>\n",
       "    <tr>\n",
       "      <th>2</th>\n",
       "      <td>7</td>\n",
       "      <td>1</td>\n",
       "      <td>3</td>\n",
       "      <td>0</td>\n",
       "      <td>2</td>\n",
       "      <td>0</td>\n",
       "      <td>1</td>\n",
       "      <td>6</td>\n",
       "      <td>1</td>\n",
       "      <td>1</td>\n",
       "    </tr>\n",
       "    <tr>\n",
       "      <th>3</th>\n",
       "      <td>0</td>\n",
       "      <td>1</td>\n",
       "      <td>1</td>\n",
       "      <td>0</td>\n",
       "      <td>0</td>\n",
       "      <td>0</td>\n",
       "      <td>1</td>\n",
       "      <td>6</td>\n",
       "      <td>1</td>\n",
       "      <td>1</td>\n",
       "    </tr>\n",
       "    <tr>\n",
       "      <th>4</th>\n",
       "      <td>7</td>\n",
       "      <td>1</td>\n",
       "      <td>3</td>\n",
       "      <td>0</td>\n",
       "      <td>0</td>\n",
       "      <td>2</td>\n",
       "      <td>1</td>\n",
       "      <td>6</td>\n",
       "      <td>1</td>\n",
       "      <td>1</td>\n",
       "    </tr>\n",
       "  </tbody>\n",
       "</table>\n",
       "</div>"
      ],
      "text/plain": [
       "   job  marital  education  default  housing  loan  contact  month  \\\n",
       "0    3        1          0        0        0     0        1      6   \n",
       "1    7        1          3        1        0     0        1      6   \n",
       "2    7        1          3        0        2     0        1      6   \n",
       "3    0        1          1        0        0     0        1      6   \n",
       "4    7        1          3        0        0     2        1      6   \n",
       "\n",
       "   day_of_week  poutcome  \n",
       "0            1         1  \n",
       "1            1         1  \n",
       "2            1         1  \n",
       "3            1         1  \n",
       "4            1         1  "
      ]
     },
     "execution_count": 10,
     "metadata": {},
     "output_type": "execute_result"
    }
   ],
   "source": [
    "categoricalCols.head()"
   ]
  },
  {
   "cell_type": "code",
   "execution_count": 11,
   "metadata": {},
   "outputs": [],
   "source": [
    "numericalCols = X[numerical_cols] # Getting all the numerical columns"
   ]
  },
  {
   "cell_type": "code",
   "execution_count": 12,
   "metadata": {},
   "outputs": [
    {
     "data": {
      "text/html": [
       "<div>\n",
       "<style scoped>\n",
       "    .dataframe tbody tr th:only-of-type {\n",
       "        vertical-align: middle;\n",
       "    }\n",
       "\n",
       "    .dataframe tbody tr th {\n",
       "        vertical-align: top;\n",
       "    }\n",
       "\n",
       "    .dataframe thead th {\n",
       "        text-align: right;\n",
       "    }\n",
       "</style>\n",
       "<table border=\"1\" class=\"dataframe\">\n",
       "  <thead>\n",
       "    <tr style=\"text-align: right;\">\n",
       "      <th></th>\n",
       "      <th>age</th>\n",
       "      <th>duration</th>\n",
       "      <th>campaign</th>\n",
       "      <th>pdays</th>\n",
       "      <th>previous</th>\n",
       "      <th>emp.var.rate</th>\n",
       "      <th>cons.price.idx</th>\n",
       "      <th>cons.conf.idx</th>\n",
       "      <th>euribor3m</th>\n",
       "      <th>nr.employed</th>\n",
       "    </tr>\n",
       "  </thead>\n",
       "  <tbody>\n",
       "    <tr>\n",
       "      <th>0</th>\n",
       "      <td>1.533034</td>\n",
       "      <td>0.010471</td>\n",
       "      <td>-0.565922</td>\n",
       "      <td>0.195414</td>\n",
       "      <td>-0.349494</td>\n",
       "      <td>0.648092</td>\n",
       "      <td>0.722722</td>\n",
       "      <td>0.886447</td>\n",
       "      <td>0.71246</td>\n",
       "      <td>0.33168</td>\n",
       "    </tr>\n",
       "    <tr>\n",
       "      <th>1</th>\n",
       "      <td>1.628993</td>\n",
       "      <td>-0.421501</td>\n",
       "      <td>-0.565922</td>\n",
       "      <td>0.195414</td>\n",
       "      <td>-0.349494</td>\n",
       "      <td>0.648092</td>\n",
       "      <td>0.722722</td>\n",
       "      <td>0.886447</td>\n",
       "      <td>0.71246</td>\n",
       "      <td>0.33168</td>\n",
       "    </tr>\n",
       "    <tr>\n",
       "      <th>2</th>\n",
       "      <td>-0.290186</td>\n",
       "      <td>-0.124520</td>\n",
       "      <td>-0.565922</td>\n",
       "      <td>0.195414</td>\n",
       "      <td>-0.349494</td>\n",
       "      <td>0.648092</td>\n",
       "      <td>0.722722</td>\n",
       "      <td>0.886447</td>\n",
       "      <td>0.71246</td>\n",
       "      <td>0.33168</td>\n",
       "    </tr>\n",
       "    <tr>\n",
       "      <th>3</th>\n",
       "      <td>-0.002309</td>\n",
       "      <td>-0.413787</td>\n",
       "      <td>-0.565922</td>\n",
       "      <td>0.195414</td>\n",
       "      <td>-0.349494</td>\n",
       "      <td>0.648092</td>\n",
       "      <td>0.722722</td>\n",
       "      <td>0.886447</td>\n",
       "      <td>0.71246</td>\n",
       "      <td>0.33168</td>\n",
       "    </tr>\n",
       "    <tr>\n",
       "      <th>4</th>\n",
       "      <td>1.533034</td>\n",
       "      <td>0.187888</td>\n",
       "      <td>-0.565922</td>\n",
       "      <td>0.195414</td>\n",
       "      <td>-0.349494</td>\n",
       "      <td>0.648092</td>\n",
       "      <td>0.722722</td>\n",
       "      <td>0.886447</td>\n",
       "      <td>0.71246</td>\n",
       "      <td>0.33168</td>\n",
       "    </tr>\n",
       "  </tbody>\n",
       "</table>\n",
       "</div>"
      ],
      "text/plain": [
       "        age  duration  campaign     pdays  previous  emp.var.rate  \\\n",
       "0  1.533034  0.010471 -0.565922  0.195414 -0.349494      0.648092   \n",
       "1  1.628993 -0.421501 -0.565922  0.195414 -0.349494      0.648092   \n",
       "2 -0.290186 -0.124520 -0.565922  0.195414 -0.349494      0.648092   \n",
       "3 -0.002309 -0.413787 -0.565922  0.195414 -0.349494      0.648092   \n",
       "4  1.533034  0.187888 -0.565922  0.195414 -0.349494      0.648092   \n",
       "\n",
       "   cons.price.idx  cons.conf.idx  euribor3m  nr.employed  \n",
       "0        0.722722       0.886447    0.71246      0.33168  \n",
       "1        0.722722       0.886447    0.71246      0.33168  \n",
       "2        0.722722       0.886447    0.71246      0.33168  \n",
       "3        0.722722       0.886447    0.71246      0.33168  \n",
       "4        0.722722       0.886447    0.71246      0.33168  "
      ]
     },
     "execution_count": 12,
     "metadata": {},
     "output_type": "execute_result"
    }
   ],
   "source": [
    "numericalCols.head()"
   ]
  },
  {
   "cell_type": "code",
   "execution_count": 13,
   "metadata": {},
   "outputs": [
    {
     "data": {
      "text/plain": [
       "[12, 4, 8, 3, 3, 3, 2, 10, 5, 3]"
      ]
     },
     "execution_count": 13,
     "metadata": {},
     "output_type": "execute_result"
    }
   ],
   "source": [
    "# Compute sizeDict containing the #unique values in each catergorical columns\n",
    "sizeDict = []\n",
    "for k in cat_dict:\n",
    "    sizeDict.append(len(cat_dict[k]))\n",
    "sizeDict"
   ]
  },
  {
   "cell_type": "code",
   "execution_count": 14,
   "metadata": {},
   "outputs": [],
   "source": [
    "# Convert dataframe to tensors\n",
    "numerical_data = torch.tensor(numericalCols.values, dtype=torch.float32)\n",
    "categorical_data = torch.tensor(categoricalCols.values, dtype=torch.int64)"
   ]
  },
  {
   "cell_type": "code",
   "execution_count": 15,
   "metadata": {},
   "outputs": [
    {
     "data": {
      "text/plain": [
       "(torch.Size([41188, 10]), torch.Size([41188, 10]))"
      ]
     },
     "execution_count": 15,
     "metadata": {},
     "output_type": "execute_result"
    }
   ],
   "source": [
    "# Check shapes\n",
    "categorical_data.shape, numerical_data.shape"
   ]
  },
  {
   "cell_type": "code",
   "execution_count": 16,
   "metadata": {},
   "outputs": [],
   "source": [
    "# Define a PyTorch neural network class called \"BankMarketingModel\" which inherits from the PyTorch \"nn.Module\" class\n",
    "class BankMarketingModel(nn.Module):\n",
    "    def __init__(self, input_dim, output_dim, hidden_dim, embedding_dim, num_layers):\n",
    "        super(BankMarketingModel, self).__init__()\n",
    "        # self.embedding\" is a list of PyTorch \"nn.Embedding\" layers, created using a list comprehension with \n",
    "        # the \"in_dim\" and \"emb_dim\" values coming from the \"input_dim\" and \"embedding_dim\" lists passed as arguments\n",
    "        self.embedding = nn.ModuleList([nn.Embedding(in_dim, emb_dim) for in_dim, emb_dim in zip(input_dim, embedding_dim)])\n",
    "        # self.linear1\" is a PyTorch \"nn.Linear\" layer with input size being the sum of the values \n",
    "        # in \"embedding_dim\" list and the number of numerical columns and output size of \"hidden_dim\" passed as an argument.\n",
    "        self.linear1 = nn.Linear(sum(embedding_dim) + len(numerical_cols), hidden_dim)\n",
    "        # Similarily for linear layer 2, appropriate dimensions\n",
    "        self.linear2 = nn.Linear(hidden_dim, output_dim)\n",
    "        self.num_layers = num_layers\n",
    "\n",
    "    def forward(self, x_cat, x_num):\n",
    "        # Pass the categorical data through the embedding layers\n",
    "        # Feed categorical features to the embedding layer\n",
    "        x_cat = [emb(x_cat[:, i]) for i, emb in enumerate(self.embedding)] \n",
    "        x_cat = torch.cat(x_cat, 1)\n",
    "        # Combine embedded and numerical features\n",
    "        x = torch.cat([x_cat, x_num], 1)\n",
    "        # Feed to the linear layer(s)\n",
    "        x = F.relu(self.linear1(x))\n",
    "        for _ in range(self.num_layers - 1):\n",
    "            x = F.relu(self.linear1(x))\n",
    "        x = self.linear2(x)\n",
    "        return torch.sigmoid(x)\n"
   ]
  },
  {
   "cell_type": "code",
   "execution_count": 17,
   "metadata": {},
   "outputs": [],
   "source": [
    "# Define required params\n",
    "input_dim = sizeDict\n",
    "output_dim = 1\n",
    "hidden_dim = 110\n",
    "embedding_dim = [10 for _ in range(10)]\n",
    "num_layers = 5\n",
    "# Define the number of folds\n",
    "n_folds = 3\n",
    "max_epochs = 100 #Maximum Epochs\n",
    "\n",
    "# Instantiate the model\n",
    "model = BankMarketingModel(input_dim, output_dim, hidden_dim, embedding_dim, num_layers)\n",
    "# Pass the data through the model\n",
    "output = model(categorical_data, numerical_data)\n",
    "\n",
    "# Define the loss function\n",
    "loss_fn = nn.BCELoss()\n",
    "labels = torch.tensor(y)\n",
    "labels = torch.reshape(labels, (labels.shape[0], 1))\n",
    "labels = labels.to(torch.float)\n",
    "# Define the optimizer\n",
    "optimizer = torch.optim.Adam(model.parameters())\n",
    "# Define the threshold for converting probabilities to binary values\n",
    "threshold = 0.5\n",
    "# Create a DataLoader from the TensorDataset\n",
    "batch_size = 4000"
   ]
  },
  {
   "cell_type": "code",
   "execution_count": 18,
   "metadata": {},
   "outputs": [],
   "source": [
    "class BankMarketingModule(LightningModule):\n",
    "    def __init__(self, input_dim, output_dim, hidden_dim, embedding_dim, num_layers):\n",
    "        super().__init__()\n",
    "        # Instantiate the model\n",
    "        self.model = BankMarketingModel(input_dim, output_dim, hidden_dim, embedding_dim, num_layers)\n",
    "        # Define and initiate params\n",
    "        self.val_losses = []\n",
    "        self.train_losses = []\n",
    "        self.train_accs = []\n",
    "        self.val_accs = []\n",
    "        self.current_train_loss = 0\n",
    "        self.current_train_acc = 0\n",
    "        self.current_fold = 0\n",
    "        self.n_folds = 3\n",
    "\n",
    "    def forward(self, x_cat, x_num):\n",
    "        # forward pass\n",
    "        return self.model(x_cat, x_num)\n",
    "\n",
    "    def training_step(self, batch, batch_idx):\n",
    "        x_cat, x_num, y = batch\n",
    "        # print('Sizes: x_cat: {}, x_num: {}, y: {}'.format(x_cat.shape, x_num.shape, y.shape))\n",
    "        y_hat = self.forward(x_cat, x_num) # forward pass\n",
    "        loss = F.binary_cross_entropy(y_hat, y) #computing loss\n",
    "        acc = (y_hat.round() == y).sum().item() / len(y) # accuracy\n",
    "        # Store accuracy and loss for plotting later on\n",
    "        self.train_losses.append((loss, batch_idx))\n",
    "        self.train_accs.append((acc, batch_idx))\n",
    "        return {'accuracy': acc, 'loss': loss}\n",
    "\n",
    "    def validation_step(self, batch, batch_idx):\n",
    "        x_cat, x_num, y = batch # get data and labels\n",
    "        y_hat = self.forward(x_cat, x_num) # forward pass\n",
    "        loss = F.binary_cross_entropy(y_hat, y) #computing loss\n",
    "        acc = (y_hat.round() == y).sum().item() / len(y) # accuracy\n",
    "        # Store accuracy and loss for plotting later on\n",
    "        self.val_losses.append((loss, batch_idx))\n",
    "        self.val_accs.append((acc, batch_idx))\n",
    "        return {'val_loss': loss, 'val_acc': torch.tensor(acc)}\n",
    "\n",
    "    def configure_optimizers(self):\n",
    "        # Optimizer setup, to be used when model is trained\n",
    "        return torch.optim.Adam(self.parameters())\n",
    "\n",
    "    def train_dataloader(self):\n",
    "        # Creating data loader to allow for Trainer to train this using this loader\n",
    "        train_data = TensorDataset(categorical_data, numerical_data, labels)\n",
    "        train_loader = DataLoader(train_data, batch_size=batch_size, shuffle=True)\n",
    "        return train_loader\n",
    "\n",
    "\n"
   ]
  },
  {
   "cell_type": "code",
   "execution_count": 19,
   "metadata": {},
   "outputs": [],
   "source": [
    "# Function to handle tensors returned for training and validation\n",
    "# loss and accuracies, utlized to convert them into a list and then plotted later\n",
    "def getVals(lst, epochs):\n",
    "    pat = int(len(lst)/max_epochs)\n",
    "    try:\n",
    "        lstt = [(float(x[0].detach().numpy()), x[1]) for x in lst]\n",
    "    except:\n",
    "        lstt = lst\n",
    "    lst = [x[0] for x in lstt]\n",
    "    out = []\n",
    "    for i in range(epochs):\n",
    "        c = lst[i:i+pat]\n",
    "        out.append(np.mean(c))\n",
    "    return out"
   ]
  },
  {
   "cell_type": "markdown",
   "metadata": {},
   "source": [
    "<h1> I have plotted graphs below and using tensorboard as well, however it is suggested to refer to these graphs first."
   ]
  },
  {
   "cell_type": "code",
   "execution_count": 20,
   "metadata": {},
   "outputs": [
    {
     "name": "stderr",
     "output_type": "stream",
     "text": [
      "GPU available: True (mps), used: False\n",
      "TPU available: False, using: 0 TPU cores\n",
      "IPU available: False, using: 0 IPUs\n",
      "HPU available: False, using: 0 HPUs\n",
      "Missing logger folder: /Users/farjad.ahmed/Documents/Studies/ML Lab/Exercise_08/lightning_logs\n",
      "\n",
      "  | Name  | Type               | Params\n",
      "---------------------------------------------\n",
      "0 | model | BankMarketingModel | 12.9 K\n",
      "---------------------------------------------\n",
      "12.9 K    Trainable params\n",
      "0         Non-trainable params\n",
      "12.9 K    Total params\n",
      "0.051     Total estimated model params size (MB)\n"
     ]
    },
    {
     "name": "stdout",
     "output_type": "stream",
     "text": [
      "Epoch 99: 100%|██████████| 11/11 [00:00<00:00, 27.10it/s, loss=0.113, v_num=0]"
     ]
    },
    {
     "name": "stderr",
     "output_type": "stream",
     "text": [
      "`Trainer.fit` stopped: `max_epochs=100` reached.\n"
     ]
    },
    {
     "name": "stdout",
     "output_type": "stream",
     "text": [
      "Epoch 99: 100%|██████████| 11/11 [00:00<00:00, 26.89it/s, loss=0.113, v_num=0]\n"
     ]
    },
    {
     "name": "stderr",
     "output_type": "stream",
     "text": [
      "GPU available: True (mps), used: False\n",
      "TPU available: False, using: 0 TPU cores\n",
      "IPU available: False, using: 0 IPUs\n",
      "HPU available: False, using: 0 HPUs\n",
      "\n",
      "  | Name  | Type               | Params\n",
      "---------------------------------------------\n",
      "0 | model | BankMarketingModel | 12.9 K\n",
      "---------------------------------------------\n",
      "12.9 K    Trainable params\n",
      "0         Non-trainable params\n",
      "12.9 K    Total params\n",
      "0.051     Total estimated model params size (MB)\n"
     ]
    },
    {
     "name": "stdout",
     "output_type": "stream",
     "text": [
      "Epoch 99: 100%|██████████| 11/11 [00:00<00:00, 27.16it/s, loss=0.139, v_num=1]"
     ]
    },
    {
     "name": "stderr",
     "output_type": "stream",
     "text": [
      "`Trainer.fit` stopped: `max_epochs=100` reached.\n"
     ]
    },
    {
     "name": "stdout",
     "output_type": "stream",
     "text": [
      "Epoch 99: 100%|██████████| 11/11 [00:00<00:00, 26.97it/s, loss=0.139, v_num=1]\n"
     ]
    },
    {
     "name": "stderr",
     "output_type": "stream",
     "text": [
      "GPU available: True (mps), used: False\n",
      "TPU available: False, using: 0 TPU cores\n",
      "IPU available: False, using: 0 IPUs\n",
      "HPU available: False, using: 0 HPUs\n",
      "\n",
      "  | Name  | Type               | Params\n",
      "---------------------------------------------\n",
      "0 | model | BankMarketingModel | 12.9 K\n",
      "---------------------------------------------\n",
      "12.9 K    Trainable params\n",
      "0         Non-trainable params\n",
      "12.9 K    Total params\n",
      "0.051     Total estimated model params size (MB)\n"
     ]
    },
    {
     "name": "stdout",
     "output_type": "stream",
     "text": [
      "Epoch 99: 100%|██████████| 11/11 [00:00<00:00, 26.62it/s, loss=0.149, v_num=2]"
     ]
    },
    {
     "name": "stderr",
     "output_type": "stream",
     "text": [
      "`Trainer.fit` stopped: `max_epochs=100` reached.\n"
     ]
    },
    {
     "name": "stdout",
     "output_type": "stream",
     "text": [
      "Epoch 99: 100%|██████████| 11/11 [00:00<00:00, 26.29it/s, loss=0.149, v_num=2]\n",
      "\n",
      "\n",
      "\n",
      "\t\t\t\t********************Results********************\n",
      "\n",
      "\n",
      "Train_Accuracy 1.0\n",
      "Train_Loss 0.0\n",
      "Validation_Accuracy 1.0\n",
      "Validation_Loss 0.0\n"
     ]
    },
    {
     "data": {
      "image/png": "[encoded data removed]",
      "text/plain": [
       "<Figure size 1000x1000 with 4 Axes>"
      ]
     },
     "metadata": {},
     "output_type": "display_data"
    }
   ],
   "source": [
    "# Lists to store the metrics, result dict to cumulate the results for kfolds\n",
    "avgTrainLoss = []\n",
    "avgValLoss = []\n",
    "avgTrainAcc = []\n",
    "avgValAcc = []\n",
    "resultDict = {'Train_Accuracy':0, 'Train_Loss':0, 'Validation_Accuracy':0, 'Validation_Loss':0}\n",
    "# Tensor Board\n",
    "writer = SummaryWriter()\n",
    "# Convert data to tensors\n",
    "labels = torch.tensor(y)\n",
    "labels = torch.reshape(labels, (labels.shape[0], 1))\n",
    "labels = labels.to(torch.float)\n",
    "# Create the figure and subplots\n",
    "fig, axs = plt.subplots(2, 2, figsize=(10, 10))\n",
    "# Create a TensorDataset\n",
    "train_data = TensorDataset(categorical_data, numerical_data, labels)\n",
    "lines = [[] for _ in range(4)] \n",
    "# Create a StratifiedKFold object\n",
    "skf = StratifiedKFold(n_splits=n_folds, shuffle=True, random_state=42)\n",
    "\n",
    "# Iterate over the folds\n",
    "for i, (train_index, val_index) in enumerate(skf.split(categorical_data, labels)):\n",
    "    # Create train and validation data loaders\n",
    "    train_loader = DataLoader(train_data, batch_size=batch_size, sampler=SubsetRandomSampler(train_index))\n",
    "    val_loader = DataLoader(train_data, batch_size=batch_size, sampler=SubsetRandomSampler(val_index))\n",
    "\n",
    "    # Create a new instance of the model for each fold\n",
    "    model = BankMarketingModule(input_dim, output_dim, hidden_dim, embedding_dim, num_layers)\n",
    "    # trainer = Trainer(max_epochs=100)\n",
    "    trainer = Trainer(max_epochs=max_epochs)\n",
    "    trainer.fit(model, train_dataloaders=train_loader, val_dataloaders=val_loader)\n",
    "    # Retrieve the following values and store them for each batch\n",
    "    trainAccs = getVals(model.train_accs, max_epochs)\n",
    "    valAccs = getVals(model.val_accs, max_epochs)\n",
    "    trainLoss = getVals(model.train_losses, max_epochs)\n",
    "    valLoss = getVals(model.val_losses, max_epochs)\n",
    "    # Store them in the lists\n",
    "    avgTrainLoss.append(trainLoss)\n",
    "    avgValLoss.append(valLoss)\n",
    "    avgTrainAcc.append(trainAccs)\n",
    "    avgValAcc.append(valAccs)\n",
    "    # Log the training and validation loss and accuracy to TensorBoard\n",
    "    for epoch, (train_loss, train_acc, val_loss, val_acc) in enumerate(zip(trainLoss, trainAccs, valLoss, valAccs)):\n",
    "        writer.add_scalar('fold_{}/train_loss'.format(i), train_loss, epoch)\n",
    "        writer.add_scalar('fold_{}/train_acc'.format(i), train_acc, epoch)\n",
    "        writer.add_scalar('fold_{}/val_loss'.format(i), val_loss, epoch)\n",
    "        writer.add_scalar('fold_{}/val_acc'.format(i), val_acc, epoch)\n",
    "    # Plot the data\n",
    "    lines[0].append(axs[0, 0].plot(trainAccs)[0])\n",
    "    lines[1].append(axs[0, 1].plot(valAccs)[0])\n",
    "    lines[2].append(axs[1, 0].plot(trainLoss)[0])\n",
    "    lines[3].append(axs[1, 1].plot(valLoss)[0])\n",
    "    \n",
    "    resultDict['Train_Accuracy'] += np.mean(trainAccs)\n",
    "    resultDict['Train_Loss'] += np.mean(trainLoss)\n",
    "    resultDict['Validation_Accuracy'] += np.mean(valAccs)\n",
    "    resultDict['Validation_Loss'] += np.mean(valLoss)\n",
    "# To compute and print the avg performance results for KFOLDS\n",
    "print(\"\\n\\n\\n\\t\\t\\t\\t********************Results********************\\n\\n\")\n",
    "for keys in resultDict:\n",
    "    print(keys, np.round(resultDict[keys]/n_folds))\n",
    "# Generating graphs\n",
    "for i, ax in enumerate(axs.flatten()):\n",
    "    ax.legend(handles=lines[i], labels=['fold {}'.format(i) for i in range(n_folds)])\n",
    "# Add labels to the plots\n",
    "axs[0, 0].set_title(\"Train Accuracy\")\n",
    "axs[0, 0].set_xlabel(\"Epoch\")\n",
    "axs[0, 0].set_ylabel(\"Accuracy\")\n",
    "\n",
    "axs[0, 1].set_title(\"Validation Accuracy\")\n",
    "axs[0, 1].set_xlabel(\"Epoch\")\n",
    "axs[0, 1].set_ylabel(\"Accuracy\")\n",
    "\n",
    "axs[1, 0].set_title(\"Train Loss\")\n",
    "axs[1, 0].set_xlabel(\"Epoch\")\n",
    "axs[1, 0].set_ylabel(\"Loss\")\n",
    "\n",
    "axs[1, 1].set_title(\"Validation Loss\")\n",
    "axs[1, 1].set_xlabel(\"Epoch\")\n",
    "axs[1, 1].set_ylabel(\"Loss\")\n",
    "\n",
    "fig.suptitle(\"K-Fold Validation Results\")\n",
    "plt.show()\n",
    "writer.close()"
   ]
  },
  {
   "cell_type": "code",
   "execution_count": 21,
   "metadata": {},
   "outputs": [
    {
     "name": "stderr",
     "output_type": "stream",
     "text": [
      "UsageError: Line magic function `%tensorboard` not found.\n"
     ]
    }
   ],
   "source": [
    "%tensorboard"
   ]
  },
  {
   "cell_type": "code",
   "execution_count": null,
   "metadata": {},
   "outputs": [],
   "source": []
  }
 ],
 "metadata": {
  "kernelspec": {
   "display_name": "Python 3.10.8 64-bit",
   "language": "python",
   "name": "python3"
  },
  "language_info": {
   "codemirror_mode": {
    "name": "ipython",
    "version": 3
   },
   "file_extension": ".py",
   "mimetype": "text/x-python",
   "name": "python",
   "nbconvert_exporter": "python",
   "pygments_lexer": "ipython3",
   "version": "3.10.8"
  },
  "orig_nbformat": 4,
  "vscode": {
   "interpreter": {
    "hash": "b0fa6594d8f4cbf19f97940f81e996739fb7646882a419484c72d19e05852a7e"
   }
  }
 },
 "nbformat": 4,
 "nbformat_minor": 2
}
