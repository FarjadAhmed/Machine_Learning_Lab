{
  "cells": [
    {
      "cell_type": "code",
      "execution_count": 411,
      "metadata": {
        "id": "GjwW-n_wyPgW"
      },
      "outputs": [],
      "source": [
        "import nltk\n",
        "import numpy as np\n",
        "from string import punctuation\n",
        "import re\n",
        "from keras.preprocessing import text\n",
        "import pandas as pd\n",
        "from keras.utils import pad_sequences\n",
        "from keras.preprocessing import sequence\n",
        "from keras.utils import np_utils\n",
        "from sklearn.metrics.pairwise import euclidean_distances\n",
        "from sklearn.manifold import TSNE\n",
        "import numpy as np\n",
        "import matplotlib.pyplot as plt\n",
        "from google.colab import drive\n",
        "import torch\n",
        "import torch.nn as nn\n",
        "import numpy as np\n",
        "import re\n",
        "from nltk.corpus import stopwords\n",
        "from nltk.tokenize import WordPunctTokenizer\n",
        "import numpy as np\n",
        "from sklearn.metrics.pairwise import euclidean_distances\n",
        "import warnings\n",
        "warnings.filterwarnings(\"ignore\")"
      ]
    },
    {
      "cell_type": "markdown",
      "source": [
        "I followed this resource to learn, understand then implement this exercise: https://medium.com/analytics-vidhya/word-embedding-methods-to-generate-them-usage-in-financial-markets-and-experiments-on-twitter-63fae8a5ddd2"
      ],
      "metadata": {
        "id": "o7IPvGc_dR5H"
      }
    },
    {
      "cell_type": "code",
      "source": [
        "drive.mount('/content/drive')\n",
        "with open('/content/drive/MyDrive/Semester_2/ML Lab/Exercise_08/raw_text.txt', 'r') as file:\n",
        "    data = [file.read().replace('\\n', '')]"
      ],
      "metadata": {
        "colab": {
          "base_uri": "https://localhost:8080/"
        },
        "id": "DoQvEYZ5cfuo",
        "outputId": "26157a12-4291-4fbd-d702-ef0b94fbfe16"
      },
      "execution_count": 412,
      "outputs": [
        {
          "output_type": "stream",
          "name": "stdout",
          "text": [
            "Drive already mounted at /content/drive; to attempt to forcibly remount, call drive.mount(\"/content/drive\", force_remount=True).\n"
          ]
        }
      ]
    },
    {
      "cell_type": "code",
      "source": [
        "nltk.download('stopwords')\n",
        "stop_words = set(stopwords.words('english'))\n",
        "wpt = WordPunctTokenizer()\n",
        "\n",
        "def normalize_document(doc):\n",
        "    doc = re.sub(r'[^a-zA-Z\\s]', '', doc) # Removing any non-alphabetic characters\n",
        "    doc = doc.lower().strip() # Converting to lowercase and stripping leading/trailing white spaces\n",
        "    tokens = wpt.tokenize(doc) # Tokenizing the document\n",
        "    filtered_tokens = [token for token in tokens if token not in stop_words] # Removing stopwords\n",
        "    doc = ' '.join(filtered_tokens) # Joining the filtered tokens to form the cleaned document\n",
        "    doc = doc.replace(\"\\n\", \" \") # Replacing newlines with whitespaces\n",
        "    return doc\n",
        "\n",
        "normalize_corpus = np.vectorize(normalize_document)\n"
      ],
      "metadata": {
        "colab": {
          "base_uri": "https://localhost:8080/"
        },
        "id": "j8OXbIm3dzh2",
        "outputId": "b6a9b7c1-95b3-46c3-a4c1-e7b0bcb8820c"
      },
      "execution_count": 413,
      "outputs": [
        {
          "output_type": "stream",
          "name": "stderr",
          "text": [
            "[nltk_data] Downloading package stopwords to /root/nltk_data...\n",
            "[nltk_data]   Package stopwords is already up-to-date!\n"
          ]
        }
      ]
    },
    {
      "cell_type": "code",
      "execution_count": 414,
      "metadata": {
        "id": "2IalHzgLyPgY"
      },
      "outputs": [],
      "source": [
        "tokenizer = text.Tokenizer()\n",
        "tokenizer.fit_on_texts(data)\n",
        "# Creating a dictionary of word to index mapping\n",
        "word2id = tokenizer.word_index\n",
        "# Adding a PAD token to the dictionary\n",
        "word2id['PAD'] = 0\n",
        "# Creating a reverse mapping of index to word\n",
        "id2word = {v:k for k, v in word2id.items()}\n",
        "# Converting the text to sequences of word indexes\n",
        "wids = [[word2id[w] for w in text.text_to_word_sequence(doc)] for doc in alice]\n",
        "# Calculating the vocabulary size\n",
        "vocab_size = len(word2id)\n",
        "# Setting the embedding size\n",
        "embed_size = 100\n",
        "# Setting the window size for context words\n",
        "window_size = 2 \n"
      ]
    },
    {
      "cell_type": "code",
      "execution_count": 415,
      "metadata": {
        "id": "7HmFyeEZyPgZ"
      },
      "outputs": [],
      "source": [
        "def generate_context_word_pairs(corpus, window_size, vocab_size):\n",
        "    X, Y = [], []\n",
        "    # Calculating the context length \n",
        "    context_length = window_size*2\n",
        "    # Iterating over the words in corpus\n",
        "    for words in corpus:\n",
        "        # Getting the sentence length\n",
        "        sentence_length = len(words)\n",
        "        # Iterating over the words in the sentence\n",
        "        for index, word in enumerate(words):\n",
        "            # Calculating the start and end index of the context window\n",
        "            start = index - window_size\n",
        "            end = index + window_size + 1\n",
        "            # Selecting the context words\n",
        "            context = [words[i] for i in range(start, end) if 0 <= i < sentence_length and i != index]\n",
        "            # Padding the context to the context length\n",
        "            x = pad_sequences([context], maxlen=context_length)\n",
        "            # Appending the context words to X\n",
        "            X.append(x)\n",
        "            # Appending the target word to Y\n",
        "            Y.append(word)\n",
        "    return X, Y\n"
      ]
    },
    {
      "cell_type": "code",
      "execution_count": 416,
      "metadata": {
        "id": "cGmw4kP6yPgZ"
      },
      "outputs": [],
      "source": [
        "class CBOW(torch.nn.Module):\n",
        "\n",
        "    def __init__(self, inp_size , vocab_size, embedding_dim=100):\n",
        "        # Inheriting properties from parent class\n",
        "        super(CBOW, self).__init__()\n",
        "        # Creating an embedding layer with the given vocabulary size and embedding dimension\n",
        "        self.embeddings = nn.Embedding(vocab_size, embedding_dim)\n",
        "        # Creating a fully connected layer with 128 hidden units\n",
        "        self.linear1 = nn.Linear(embedding_dim, 128)\n",
        "        # Creating a ReLU activation function\n",
        "        self.activation_function1 = nn.ReLU()\n",
        "        # Creating a fully connected layer with the vocabulary size as the output size\n",
        "        self.linear2 = nn.Linear(128, vocab_size)\n",
        "        # Creating a LogSoftmax activation function\n",
        "        self.activation_function2 = nn.LogSoftmax(dim = -1)\n",
        "\n",
        "    def forward(self, inputs):\n",
        "        # Summing the embeddings of the input words\n",
        "        embeds = sum(self.embeddings(torch.from_numpy(inputs).long())).view(1,-1)\n",
        "        # Feeding the summed embeddings through the first linear layer\n",
        "        out = self.linear1(embeds)\n",
        "        # Applying the ReLU activation function\n",
        "        out = self.activation_function1(out)\n",
        "        # Feeding the output through the second linear layer\n",
        "        out = self.linear2(out)\n",
        "        # Applying the LogSoftmax activation function\n",
        "        out = self.activation_function2(out)\n",
        "        # Returning the output\n",
        "        return out\n",
        "\n",
        "# Initializing the model with the window size * 2 as input size, and the vocabulary size as the output size\n",
        "model = CBOW(window_size*2,vocab_size)\n",
        "# Defining the negative log likelihood loss function\n",
        "loss_function = nn.NLLLoss()\n",
        "# Defining the stochastic gradient descent optimizer\n",
        "optimizer = torch.optim.SGD(model.parameters(), lr=0.001)\n"
      ]
    },
    {
      "cell_type": "code",
      "execution_count": 417,
      "metadata": {
        "colab": {
          "base_uri": "https://localhost:8080/"
        },
        "id": "61Eb6wL6yPga",
        "outputId": "cfbf1450-7ec8-420c-d36d-d33b6bb3eb97"
      },
      "outputs": [
        {
          "output_type": "stream",
          "name": "stdout",
          "text": [
            "Epoch: 10 Loss: 7.121\n",
            "Epoch: 20 Loss: 3.339\n",
            "Epoch: 30 Loss: 1.26\n",
            "Epoch: 40 Loss: 0.661\n"
          ]
        }
      ],
      "source": [
        "for epoch in range(1, 50):\n",
        "    # Initializing the loss variable\n",
        "    loss = 0.\n",
        "    # Initializing the index variable\n",
        "    i = 0\n",
        "    # Generating context-word pairs for the current epoch\n",
        "    X,Y = generate_context_word_pairs(corpus=wids, window_size=window_size, vocab_size=vocab_size)\n",
        "    # Iterating over the input-target pairs\n",
        "    for x, y in zip(X,Y):\n",
        "        i += 1\n",
        "        # Zeroing the gradients of the optimizer\n",
        "        optimizer.zero_grad()\n",
        "        # Getting the log probabilities of the target word from the model\n",
        "        log_probs = model(x[0])\n",
        "        # Calculating the loss between the log probabilities and the target word\n",
        "        loss = loss_function(log_probs,torch.Tensor([y]).long())\n",
        "        # Backpropagating the gradients\n",
        "        loss.backward()\n",
        "        # Updating the model parameters\n",
        "        optimizer.step()\n",
        "        # Accumulating the loss\n",
        "        loss += loss.data\n",
        "    # Printing the loss every 10 epochs\n",
        "    if epoch % 10 == 0:\n",
        "      print('Epoch:', epoch, 'Loss:', np.round(loss.item(),3))\n"
      ]
    },
    {
      "cell_type": "code",
      "execution_count": 420,
      "metadata": {
        "colab": {
          "base_uri": "https://localhost:8080/",
          "height": 516
        },
        "id": "6_xtycw_7grC",
        "outputId": "21c25eef-6c07-4836-b98d-0123e8bd4c37"
      },
      "outputs": [
        {
          "output_type": "stream",
          "name": "stdout",
          "text": [
            "Total words: 30 Word Embedding length: 30\n"
          ]
        },
        {
          "output_type": "display_data",
          "data": {
            "text/plain": [
              "<Figure size 1008x576 with 1 Axes>"
            ],
            "image/png": "[encoded data removed]"
          },
          "metadata": {
            "needs_background": "light"
          }
        }
      ],
      "source": [
        "# Create a tensor of integers from 0 to vocab_size-1\n",
        "vocab_tensor = torch.Tensor([list(range(0,vocab_size))]).long()\n",
        "# Pass the vocab tensor through the embedding layer to get the weights\n",
        "weights = model.embeddings(vocab_tensor)\n",
        "# Reshape the weights to 2D\n",
        "weights = weights.view(-1,100)\n",
        "# Calculate the euclidean distance between all the word embeddings\n",
        "distance_matrix = euclidean_distances(weights.detach().numpy())\n",
        "# For each search term, find the 5 closest words based on their embeddings\n",
        "similar_words = {search_term: [id2word[idx] for idx in distance_matrix[word2id[search_term]-1].argsort()[1:6]+1] for search_term in ['the','i','was','and','of'] }\n",
        "# Concatenate search terms and their similar words into a single list of words\n",
        "words = sum([[k] + v for k, v in similar_words.items()], [])\n",
        "# Get the ids of the words\n",
        "words_ids = [word2id[w] for w in words]\n",
        "# Get the embedding vectors of the words\n",
        "word_vectors = ([weights[idx].detach().numpy() for idx in words_ids])\n",
        "# Print the total number of words and their embedding shapes\n",
        "print('Total words:', len(words), 'Word Embedding length:', len(word_vectors))\n",
        "# Apply t-SNE to reduce the dimensions of the word embeddings to 2D\n",
        "tsne = TSNE(n_components=2, random_state=0, n_iter=10000, perplexity=3)\n",
        "np.set_printoptions(suppress=True)\n",
        "T = tsne.fit_transform(word_vectors)\n",
        "labels = words\n",
        "# Plot the word embeddings in a scatter plot\n",
        "plt.figure(figsize=(14, 8))\n",
        "plt.scatter(T[:, 0], T[:, 1], c='steelblue', edgecolors='k')\n",
        "# Label each point with the corresponding word\n",
        "for label, x, y in zip(labels, T[:, 0], T[:, 1]):\n",
        "    plt.annotate(label, xy=(x+1, y+1), xytext=(0, 0), textcoords='offset points')\n",
        "plt.title('Word Embedding Space')\n",
        "plt.show()\n"
      ]
    },
    {
      "cell_type": "code",
      "execution_count": 418,
      "metadata": {
        "id": "-ZXNzkmWydUW"
      },
      "outputs": [],
      "source": []
    }
  ],
  "metadata": {
    "colab": {
      "provenance": []
    },
    "kernelspec": {
      "display_name": "Python 3.10.8 64-bit",
      "language": "python",
      "name": "python3"
    },
    "language_info": {
      "codemirror_mode": {
        "name": "ipython",
        "version": 3
      },
      "file_extension": ".py",
      "mimetype": "text/x-python",
      "name": "python",
      "nbconvert_exporter": "python",
      "pygments_lexer": "ipython3",
      "version": "3.10.8"
    },
    "orig_nbformat": 4,
    "vscode": {
      "interpreter": {
        "hash": "b0fa6594d8f4cbf19f97940f81e996739fb7646882a419484c72d19e05852a7e"
      }
    }
  },
  "nbformat": 4,
  "nbformat_minor": 0
}