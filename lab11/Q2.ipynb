{
 "cells": [
  {
   "cell_type": "code",
   "execution_count": 22,
   "metadata": {},
   "outputs": [],
   "source": [
    "#Load the libraries\n",
    "import numpy as np\n",
    "import pandas as pd\n",
    "import seaborn as sns\n",
    "import matplotlib.pyplot as plt\n",
    "import nltk\n",
    "from sklearn.feature_extraction.text import CountVectorizer\n",
    "from sklearn.feature_extraction.text import TfidfVectorizer\n",
    "from sklearn.preprocessing import LabelBinarizer\n",
    "from nltk.corpus import stopwords\n",
    "from nltk.stem.porter import PorterStemmer\n",
    "from nltk.stem import WordNetLemmatizer\n",
    "from nltk.tokenize import word_tokenize,sent_tokenize\n",
    "import re,string,unicodedata\n",
    "from nltk.tokenize.toktok import ToktokTokenizer\n",
    "from nltk.stem import LancasterStemmer,WordNetLemmatizer\n",
    "from sklearn.linear_model import LogisticRegression,SGDClassifier\n",
    "from sklearn.naive_bayes import MultinomialNB\n",
    "from sklearn.svm import SVC\n",
    "from sklearn.metrics import classification_report,confusion_matrix,accuracy_score\n",
    "import math\n",
    "import warnings\n",
    "warnings.filterwarnings('ignore')\n",
    "import gensim\n",
    "from gensim.utils import simple_preprocess\n",
    "import nltk\n",
    "from nltk.corpus import stopwords\n",
    "import pandas as pd\n",
    "import re\n",
    "from wordcloud import WordCloud\n",
    "import gensim.corpora as corpora\n",
    "import pyLDAvis.gensim_models\n",
    "import pickle \n",
    "import pyLDAvis\n",
    "import os\n",
    "import random"
   ]
  },
  {
   "cell_type": "code",
   "execution_count": 23,
   "metadata": {},
   "outputs": [],
   "source": [
    "import os\n",
    "\n",
    "def read_texts(path):\n",
    "    texts = []\n",
    "    for filename in os.listdir(path):\n",
    "        if filename.endswith(\".en\"):\n",
    "            with open(os.path.join(path, filename), \"r\", encoding=\"utf-8\") as f:\n",
    "                texts.append(f.read())\n",
    "    return \" \".join(texts)"
   ]
  },
  {
   "cell_type": "code",
   "execution_count": 24,
   "metadata": {},
   "outputs": [
    {
     "name": "stderr",
     "output_type": "stream",
     "text": [
      "[nltk_data] Downloading package punkt to\n",
      "[nltk_data]     /Users/farjad.ahmed/nltk_data...\n",
      "[nltk_data]   Package punkt is already up-to-date!\n"
     ]
    },
    {
     "name": "stdout",
     "output_type": "stream",
     "text": [
      "Perplexity for 2-gram language model: 29784.34\n",
      "Generated sentence using 2-gram model:\n",
      "The European\n",
      "\n",
      "Generated sentence using 3-gram model:\n"
     ]
    }
   ],
   "source": [
    "import nltk\n",
    "from nltk import word_tokenize\n",
    "from collections import defaultdict\n",
    "\n",
    "nltk.download(\"punkt\") # download the tokenizer\n",
    "# nltk.download(\"europarl_raw\") # download the dataset\n",
    "\n",
    "text = read_texts('europarl_raw/english')\n",
    "tokens = word_tokenize(text) # tokenize the text\n",
    "\n",
    "def ngrams(tokens, n):\n",
    "    ngrams = []\n",
    "    for i in range(len(tokens) - n + 1):\n",
    "        ngrams.append(tuple(tokens[i:i+n]))\n",
    "    return ngrams\n",
    "\n",
    "def train_ngram(tokens, n):\n",
    "    ngram_counts = defaultdict(int)\n",
    "    for ngram in ngrams(tokens, n):\n",
    "        ngram_counts[ngram] += 1\n",
    "    return ngram_counts\n",
    "\n",
    "def perplexity(model, tokens, n):\n",
    "    ngram_counts = model\n",
    "    total_count = sum(ngram_counts.values())\n",
    "    log_prob = 0\n",
    "    num_ngrams = 0\n",
    "    for i in range(len(tokens) - n + 1):\n",
    "        ngram = tuple(tokens[i:i+n])\n",
    "        count = ngram_counts[ngram] if ngram in ngram_counts else 0\n",
    "        prob = count / total_count\n",
    "        log_prob -= np.log2(prob)\n",
    "        num_ngrams += 1\n",
    "    return 2**(log_prob/num_ngrams)\n",
    "\n",
    "def generate_sentence(model, n, seed_text, max_length):\n",
    "    ngram_counts = model\n",
    "    generated_text = seed_text\n",
    "    while len(generated_text.split()) < max_length:\n",
    "        ngrams_in_text = ngrams(word_tokenize(generated_text), n)\n",
    "        try:\n",
    "            last_ngram = ngrams_in_text[-1]\n",
    "        except:\n",
    "            continue\n",
    "        next_word_probs = defaultdict(int)\n",
    "        for ngram, count in ngram_counts.items():\n",
    "            if ngram[:-1] == last_ngram:\n",
    "                next_word_probs[ngram[-1]] = count\n",
    "        if sum(next_word_probs.values()) == 0:\n",
    "            break\n",
    "        next_word = random.choices(list(next_word_probs.keys()), weights=list(next_word_probs.values()), k=1)[0]\n",
    "        generated_text += \" \" + next_word\n",
    "    return generated_text\n",
    "\n",
    "# Train the 2-gram language model\n",
    "bigram_model = train_ngram(tokens, 2)\n",
    "\n",
    "# Evaluation of the model\n",
    "perplexity = perplexity(bigram_model, tokens, 2) # calculate the perplexity\n",
    "print(f\"Perplexity for 2-gram language model: {perplexity:.2f}\")\n",
    "for n in [2, 3, 4, 5]:\n",
    "    print(f\"Generated sentence using {n}-gram model:\")\n",
    "    print(generate_sentence(bigram_model, n, \"The European\", 20))\n",
    "    print()\n"
   ]
  },
  {
   "cell_type": "code",
   "execution_count": null,
   "metadata": {},
   "outputs": [],
   "source": [
    "# Train the 3-gram language model\n",
    "trigram_model = train_ngram(tokens, 3)\n",
    "\n",
    "# Evaluation of the model\n",
    "perplexity = perplexity(trigram_model, tokens, 2) # calculate the perplexity\n",
    "print(f\"Perplexity for 2-gram language model: {perplexity:.2f}\")\n",
    "for n in [2, 3, 4, 5]:\n",
    "    print(f\"Generated sentence using {n}-gram model:\")\n",
    "    print(generate_sentence(trigram_model, n, \"The European\", 20))\n",
    "    print()"
   ]
  },
  {
   "cell_type": "code",
   "execution_count": null,
   "metadata": {},
   "outputs": [
    {
     "name": "stdout",
     "output_type": "stream",
     "text": [
      "Generated sentence using 2-gram model:\n",
      "The European\n",
      "\n",
      "Generated sentence using 3-gram model:\n"
     ]
    },
    {
     "ename": "IndexError",
     "evalue": "list index out of range",
     "output_type": "error",
     "traceback": [
      "\u001b[0;31m---------------------------------------------------------------------------\u001b[0m",
      "\u001b[0;31mIndexError\u001b[0m                                Traceback (most recent call last)",
      "\u001b[0;32m/var/folders/t6/rk7lq7211555v4bhr2_wl3x00000gp/T/ipykernel_23599/319860404.py\u001b[0m in \u001b[0;36m<module>\u001b[0;34m\u001b[0m\n\u001b[1;32m     18\u001b[0m \u001b[0;32mfor\u001b[0m \u001b[0mn\u001b[0m \u001b[0;32min\u001b[0m \u001b[0;34m[\u001b[0m\u001b[0;36m2\u001b[0m\u001b[0;34m,\u001b[0m \u001b[0;36m3\u001b[0m\u001b[0;34m,\u001b[0m \u001b[0;36m4\u001b[0m\u001b[0;34m,\u001b[0m \u001b[0;36m5\u001b[0m\u001b[0;34m]\u001b[0m\u001b[0;34m:\u001b[0m\u001b[0;34m\u001b[0m\u001b[0;34m\u001b[0m\u001b[0m\n\u001b[1;32m     19\u001b[0m     \u001b[0mprint\u001b[0m\u001b[0;34m(\u001b[0m\u001b[0;34mf\"Generated sentence using {n}-gram model:\"\u001b[0m\u001b[0;34m)\u001b[0m\u001b[0;34m\u001b[0m\u001b[0;34m\u001b[0m\u001b[0m\n\u001b[0;32m---> 20\u001b[0;31m     \u001b[0mprint\u001b[0m\u001b[0;34m(\u001b[0m\u001b[0mgenerate_sentence\u001b[0m\u001b[0;34m(\u001b[0m\u001b[0mngram_model\u001b[0m\u001b[0;34m,\u001b[0m \u001b[0mn\u001b[0m\u001b[0;34m,\u001b[0m \u001b[0;34m\"The European\"\u001b[0m\u001b[0;34m,\u001b[0m \u001b[0;36m20\u001b[0m\u001b[0;34m)\u001b[0m\u001b[0;34m)\u001b[0m\u001b[0;34m\u001b[0m\u001b[0;34m\u001b[0m\u001b[0m\n\u001b[0m\u001b[1;32m     21\u001b[0m     \u001b[0mprint\u001b[0m\u001b[0;34m(\u001b[0m\u001b[0;34m)\u001b[0m\u001b[0;34m\u001b[0m\u001b[0;34m\u001b[0m\u001b[0m\n",
      "\u001b[0;32m/var/folders/t6/rk7lq7211555v4bhr2_wl3x00000gp/T/ipykernel_23599/319860404.py\u001b[0m in \u001b[0;36mgenerate_sentence\u001b[0;34m(model, n, seed_text, max_length)\u001b[0m\n\u001b[1;32m      4\u001b[0m     \u001b[0;32mwhile\u001b[0m \u001b[0mlen\u001b[0m\u001b[0;34m(\u001b[0m\u001b[0mgenerated_text\u001b[0m\u001b[0;34m.\u001b[0m\u001b[0msplit\u001b[0m\u001b[0;34m(\u001b[0m\u001b[0;34m)\u001b[0m\u001b[0;34m)\u001b[0m \u001b[0;34m<\u001b[0m \u001b[0mmax_length\u001b[0m\u001b[0;34m:\u001b[0m\u001b[0;34m\u001b[0m\u001b[0;34m\u001b[0m\u001b[0m\n\u001b[1;32m      5\u001b[0m         \u001b[0mngrams_in_text\u001b[0m \u001b[0;34m=\u001b[0m \u001b[0mngrams\u001b[0m\u001b[0;34m(\u001b[0m\u001b[0mword_tokenize\u001b[0m\u001b[0;34m(\u001b[0m\u001b[0mgenerated_text\u001b[0m\u001b[0;34m)\u001b[0m\u001b[0;34m,\u001b[0m \u001b[0mn\u001b[0m\u001b[0;34m)\u001b[0m\u001b[0;34m\u001b[0m\u001b[0;34m\u001b[0m\u001b[0m\n\u001b[0;32m----> 6\u001b[0;31m         \u001b[0mlast_ngram\u001b[0m \u001b[0;34m=\u001b[0m \u001b[0mngrams_in_text\u001b[0m\u001b[0;34m[\u001b[0m\u001b[0;34m-\u001b[0m\u001b[0;36m1\u001b[0m\u001b[0;34m]\u001b[0m\u001b[0;34m\u001b[0m\u001b[0;34m\u001b[0m\u001b[0m\n\u001b[0m\u001b[1;32m      7\u001b[0m         \u001b[0mnext_word_probs\u001b[0m \u001b[0;34m=\u001b[0m \u001b[0mdefaultdict\u001b[0m\u001b[0;34m(\u001b[0m\u001b[0mint\u001b[0m\u001b[0;34m)\u001b[0m\u001b[0;34m\u001b[0m\u001b[0;34m\u001b[0m\u001b[0m\n\u001b[1;32m      8\u001b[0m         \u001b[0;32mfor\u001b[0m \u001b[0mngram\u001b[0m\u001b[0;34m,\u001b[0m \u001b[0mcount\u001b[0m \u001b[0;32min\u001b[0m \u001b[0mngram_counts\u001b[0m\u001b[0;34m.\u001b[0m\u001b[0mitems\u001b[0m\u001b[0;34m(\u001b[0m\u001b[0;34m)\u001b[0m\u001b[0;34m:\u001b[0m\u001b[0;34m\u001b[0m\u001b[0;34m\u001b[0m\u001b[0m\n",
      "\u001b[0;31mIndexError\u001b[0m: list index out of range"
     ]
    }
   ],
   "source": [
    "# def generate_sentence(model, n, seed_text, max_length):\n",
    "#     ngram_counts = model\n",
    "#     generated_text = seed_text\n",
    "#     while len(generated_text.split()) < max_length:\n",
    "#         ngrams_in_text = ngrams(word_tokenize(generated_text), n)\n",
    "#         last_ngram = ngrams_in_text[-1]\n",
    "#         next_word_probs = defaultdict(int)\n",
    "#         for ngram, count in ngram_counts.items():\n",
    "#             if ngram[:-1] == last_ngram:\n",
    "#                 next_word_probs[ngram[-1]] = count\n",
    "#         if next_word_probs:\n",
    "#             next_word = max(next_word_probs, key=next_word_probs.get)\n",
    "#         else:\n",
    "#             break\n",
    "#         generated_text += \" \" + next_word\n",
    "#     return generated_text\n",
    "\n",
    "# for n in [2, 3, 4, 5]:\n",
    "#     print(f\"Generated sentence using {n}-gram model:\")\n",
    "#     print(generate_sentence(ngram_model, n, \"The European\", 20))\n",
    "#     print()\n"
   ]
  }
 ],
 "metadata": {
  "kernelspec": {
   "display_name": "Python 3",
   "language": "python",
   "name": "python3"
  },
  "language_info": {
   "codemirror_mode": {
    "name": "ipython",
    "version": 3
   },
   "file_extension": ".py",
   "mimetype": "text/x-python",
   "name": "python",
   "nbconvert_exporter": "python",
   "pygments_lexer": "ipython3",
   "version": "3.10.8"
  },
  "orig_nbformat": 4,
  "vscode": {
   "interpreter": {
    "hash": "b0fa6594d8f4cbf19f97940f81e996739fb7646882a419484c72d19e05852a7e"
   }
  }
 },
 "nbformat": 4,
 "nbformat_minor": 2
}
